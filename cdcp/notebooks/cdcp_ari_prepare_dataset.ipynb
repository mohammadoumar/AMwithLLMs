{
 "cells": [
  {
   "cell_type": "markdown",
   "id": "9b092f16-851d-4a47-ae4f-2a85603d6c77",
   "metadata": {},
   "source": [
    "# Prepare dataset (jsonl file)"
   ]
  },
  {
   "cell_type": "markdown",
   "id": "8798ef15",
   "metadata": {},
   "source": [
    "- Prepare CDCP datasets for llama factory.\n",
    "\n",
    "- Argument Relation Identification and Classification (ARIC)\n",
    "\n",
    "- We create the data files: `CDCP_aric_train.json`, `CDCP_aric_test.json`"
   ]
  },
  {
   "cell_type": "markdown",
   "id": "afdfbf4b-663f-41af-85a1-266a48239c9e",
   "metadata": {},
   "source": [
    "## Libraries"
   ]
  },
  {
   "cell_type": "code",
   "execution_count": 1,
   "id": "872238e4-5235-4176-bd84-4cc384bca8d4",
   "metadata": {
    "tags": []
   },
   "outputs": [],
   "source": [
    "import os\n",
    "import json\n",
    "import datasets\n",
    "from datasets import load_dataset"
   ]
  },
  {
   "cell_type": "markdown",
   "id": "7af75678-bbcc-4cfa-9b81-c9a66d170182",
   "metadata": {},
   "source": [
    "## Load Data"
   ]
  },
  {
   "cell_type": "code",
   "execution_count": 2,
   "id": "fccf6a27-07f6-4582-9160-01cd030b47a8",
   "metadata": {},
   "outputs": [],
   "source": [
    "cdcp_dataset = load_dataset(\"DFKI-SLT/cdcp\", trust_remote_code=True)"
   ]
  },
  {
   "cell_type": "code",
   "execution_count": 3,
   "id": "44fadc88-bba2-4f88-9d00-8b4ffd2153f7",
   "metadata": {},
   "outputs": [
    {
     "data": {
      "text/plain": [
       "DatasetDict({\n",
       "    train: Dataset({\n",
       "        features: ['id', 'text', 'propositions', 'relations'],\n",
       "        num_rows: 580\n",
       "    })\n",
       "    test: Dataset({\n",
       "        features: ['id', 'text', 'propositions', 'relations'],\n",
       "        num_rows: 150\n",
       "    })\n",
       "})"
      ]
     },
     "execution_count": 3,
     "metadata": {},
     "output_type": "execute_result"
    }
   ],
   "source": [
    "cdcp_dataset"
   ]
  },
  {
   "cell_type": "code",
   "execution_count": 4,
   "id": "48e99454-f63c-4c83-a127-5ea526188d33",
   "metadata": {},
   "outputs": [
    {
     "data": {
      "text/plain": [
       "{'id': '00239',\n",
       " 'text': 'First, I have learned there is a significant legal difference between 1) identify theft, 2) mistaken identity (see contract law Furthermore, that these three words need to be separated, clarified and their legal handling completely examined. There is almost zero legal remedy for wrong person found. More information would NOT have helped. The lawyer had plenty information  but he did not validate any of it after he found my address. The clerk told me these lawyers and their agents are \"just going through the phone book/internet\" hauling people with the same first and last name into court thinking they will eventually find the debtor. A complete waste of court resources, an enormous expense to the innocent citizen, and the unlawful detainment and threatening of an innocent citizen and their assets. The debtor, it has since been discovered has left the county. The lawyer could have easily validated his information using online public property records from both the Clerk of courts and the County Clerk and found out the middle initial was not a match along with over 7 other pieces of identifying information that were not a match. The lawyer did not even do the simplest checking. I filed with the IARDC  and nothing happened.',\n",
       " 'propositions': {'start': [0,\n",
       "   127,\n",
       "   241,\n",
       "   299,\n",
       "   339,\n",
       "   374,\n",
       "   435,\n",
       "   640,\n",
       "   807,\n",
       "   869,\n",
       "   1142,\n",
       "   1192,\n",
       "   1216],\n",
       "  'end': [127, 241, 299, 339, 374, 435, 640, 807, 869, 1142, 1192, 1216, 1238],\n",
       "  'label': [3, 1, 0, 4, 3, 3, 3, 4, 3, 4, 3, 3, 3],\n",
       "  'url': ['', '', '', '', '', '', '', '', '', '', '', '', '']},\n",
       " 'relations': {'head': [3], 'tail': [2], 'label': [1]}}"
      ]
     },
     "execution_count": 4,
     "metadata": {},
     "output_type": "execute_result"
    }
   ],
   "source": [
    "cdcp_dataset[\"train\"][24]"
   ]
  },
  {
   "cell_type": "code",
   "execution_count": 5,
   "id": "dc6041a1-f9ff-4098-a684-dd51eb92e7c8",
   "metadata": {},
   "outputs": [],
   "source": [
    "def formatting_fct(instruction=\"\", input=\"\", output=\"\", mode=\"train\"):\n",
    "    \n",
    "    prompt_d ={\n",
    "            \n",
    "        \"instruction\": f\"\"\"{instruction}\"\"\",\n",
    "        \"input\": f\"\"\"{input}\"\"\",\n",
    "        \"output\": f\"\"\"{output if mode=='train' else ''}\"\"\"\n",
    "            \n",
    "        }\n",
    "    \n",
    "    return prompt_d"
   ]
  },
  {
   "cell_type": "code",
   "execution_count": 10,
   "id": "acf72418-8df4-4a1f-b520-031a018501dc",
   "metadata": {},
   "outputs": [],
   "source": [
    "instruction = \"\"\"### You are an expert in Argument Mining. You are given a text which contains numbered argument components enclosed by <AC></AC> tags. Your task is to identify argument relations between argument components in the text. You must return a list of pairs in the following JSON format: {\"list_argument_relations\": [[source AC (int), target AC (int)], ..., [source AC (int), target AC (int)]]}\n",
    "\"\"\""
   ]
  },
  {
   "cell_type": "code",
   "execution_count": 11,
   "id": "2aab9d7b-c7f4-4092-bd22-a1865865afe6",
   "metadata": {},
   "outputs": [
    {
     "data": {
      "text/plain": [
       "'### You are an expert in Argument Mining. You are given a text which contains numbered argument components enclosed by <AC></AC> tags. Your task is to identify argument relations between argument components in the text. You must return a list of pairs in the following JSON format: {\"list_argument_relations\": [[source AC (int), target AC (int)], ..., [source AC (int), target AC (int)]]}\\n'"
      ]
     },
     "execution_count": 11,
     "metadata": {},
     "output_type": "execute_result"
    }
   ],
   "source": [
    "instruction"
   ]
  },
  {
   "cell_type": "code",
   "execution_count": 12,
   "id": "31a55082-ec6e-40c9-a754-43175e6dbc7b",
   "metadata": {},
   "outputs": [],
   "source": [
    "def insert_tags(text, start_indices, end_indices):\n",
    "\n",
    "    for i, (start_i, end_i) in enumerate(zip(start_indices, end_indices)):\n",
    "            \n",
    "        start_tag = \"<AC\" + str(i) + \">\"\n",
    "        end_tag = \"</AC\" + str(i) + \">\"\n",
    "        \n",
    "        start_idx = start_i + i*(len(start_tag)  + len(end_tag))\n",
    "        end_idx = end_i + i*(len(start_tag)  + len(end_tag))\n",
    "        \n",
    "        text_r = text[start_idx:end_idx]\n",
    "        new_text = start_tag + text_r + end_tag\n",
    "        text = text.replace(text_r, new_text)\n",
    "\n",
    "        question = f\"\"\"### Here is the text: {text}\"\"\"\n",
    "\n",
    "    return question"
   ]
  },
  {
   "cell_type": "code",
   "execution_count": 17,
   "id": "cfae3867-aa66-44f5-bebc-90b4e4b11dd8",
   "metadata": {},
   "outputs": [],
   "source": [
    "def get_ars(raw_relations):\n",
    "\n",
    "    sources = raw_relations[\"head\"]\n",
    "    targets = raw_relations[\"tail\"]\n",
    "    # raw_labels = raw_relations[\"label\"]\n",
    "    \n",
    "    # relation_type_labels = [\"evidence\", \"reason\"]\n",
    "\n",
    "    ars_l = []\n",
    "\n",
    "    for i in range(len(sources)):\n",
    "\n",
    "        rel = (sources[i], targets[i])\n",
    "        ars_l.append(rel)\n",
    "\n",
    "    return json.dumps({\"list_argument_relations\": ars_l})"
   ]
  },
  {
   "cell_type": "markdown",
   "id": "a0fa5d61-2b62-4050-a089-2705a327c556",
   "metadata": {},
   "source": [
    "## Create Data Files"
   ]
  },
  {
   "cell_type": "code",
   "execution_count": 18,
   "id": "dd1e9b28-bb55-41ff-a927-372b933574e0",
   "metadata": {},
   "outputs": [],
   "source": [
    "data_file_train = []\n",
    "\n",
    "for sample in cdcp_dataset[\"train\"]:\n",
    "\n",
    "    sample_text = sample[\"text\"]\n",
    "    start_l = sample[\"propositions\"][\"start\"]\n",
    "    end_l = sample[\"propositions\"][\"end\"]\n",
    "    raw_relations = sample[\"relations\"]\n",
    "    \n",
    "    question = insert_tags(sample_text, start_l, end_l)\n",
    "    answer = get_ars(raw_relations)\n",
    "    \n",
    "    data_file_train.append( formatting_fct(instruction, question, answer, mode=\"train\") )"
   ]
  },
  {
   "cell_type": "code",
   "execution_count": 19,
   "id": "b7ef4fc0-7cfc-4c4b-b81b-237cbdbc1b51",
   "metadata": {},
   "outputs": [
    {
     "data": {
      "text/plain": [
       "580"
      ]
     },
     "execution_count": 19,
     "metadata": {},
     "output_type": "execute_result"
    }
   ],
   "source": [
    "len(data_file_train)"
   ]
  },
  {
   "cell_type": "code",
   "execution_count": 20,
   "id": "f40b355c-2b04-47b3-92d4-d75a191903c5",
   "metadata": {},
   "outputs": [
    {
     "name": "stdout",
     "output_type": "stream",
     "text": [
      "{'instruction': '### You are an expert in Argument Mining. You are given a text which contains numbered argument components enclosed by <AC></AC> tags. Your task is to identify argument relations between argument components in the text. You must return a list of pairs in the following JSON format: {\"list_argument_relations\": [[source AC (int), target AC (int)], ..., [source AC (int), target AC (int)]]}\\n', 'input': '### Here is the text: <AC0>State and local court rules sometimes make default judgments much more likely.</AC0><AC1> For example, when a person who allegedly owes a debt is told to come to court on a work day, they may be forced to choose between a default judgment and their job.</AC1><AC2> I urge the CFPB to find practices that involve scheduling hearings at inconvenient times unfair, deceptive, and abusive, or inconsistent with 1692i.</AC2>', 'output': '{\"list_argument_relations\": [[0, 1], [2, 0]]}'}\n",
      "\n",
      "{'instruction': '### You are an expert in Argument Mining. You are given a text which contains numbered argument components enclosed by <AC></AC> tags. Your task is to identify argument relations between argument components in the text. You must return a list of pairs in the following JSON format: {\"list_argument_relations\": [[source AC (int), target AC (int)], ..., [source AC (int), target AC (int)]]}\\n', 'input': \"### Here is the text: <AC0>There is currently a split between the Ninth and First Circuits as to whether 1692i and other FDCPA provisions apply in garnishment proceedings.</AC0><AC1> In many states, the nominal defendant is the judgment debtor's employer,</AC1><AC2> but the judgment debtor is the real party in interest.</AC2><AC3> To allow consumers to better assert the defenses to and exemptions from garnishment available under state law, the CFPB should issue a rule applying 1692i to garnishment proceedings.</AC3>\", 'output': '{\"list_argument_relations\": [[3, 0]]}'}\n",
      "\n",
      "{'instruction': '### You are an expert in Argument Mining. You are given a text which contains numbered argument components enclosed by <AC></AC> tags. Your task is to identify argument relations between argument components in the text. You must return a list of pairs in the following JSON format: {\"list_argument_relations\": [[source AC (int), target AC (int)], ..., [source AC (int), target AC (int)]]}\\n', 'input': \"### Here is the text: <AC0>In many districts where bad check diversion programs exist, there is anecdotal evidence that the companies administering the programs threaten with prosecution individuals who do not come within the state's bad check law</AC0><AC1> for example, checks that bounce due to printing errors, checks for which there were funds available when written but not when presented, and individuals who pay the amount due by other means within grace periods permitted by state law.</AC1><AC2> The CFPB should ensure that bad check diversion programs have a realistic means of ensuring that only individuals realistically subject to prosecution are targeted,</AC2><AC3> and should also require that, in order to qualify for the 1692p safe harbor, diversion programs prohibit misleading communications and misstatements of state bad check law.</AC3>\", 'output': '{\"list_argument_relations\": [[2, 0]]}'}\n",
      "\n",
      "{'instruction': '### You are an expert in Argument Mining. You are given a text which contains numbered argument components enclosed by <AC></AC> tags. Your task is to identify argument relations between argument components in the text. You must return a list of pairs in the following JSON format: {\"list_argument_relations\": [[source AC (int), target AC (int)], ..., [source AC (int), target AC (int)]]}\\n', 'input': \"### Here is the text: <AC0>Consumer attorneys occasionally advise their clients not to record unlawful communications due to state laws requiring both parties' consent for recording.</AC0><AC1> The CFPB should require that debt collectors subject to the FDCPA impliedly consent to recording by consumers.</AC1>\", 'output': '{\"list_argument_relations\": [[1, 0]]}'}\n",
      "\n",
      "{'instruction': '### You are an expert in Argument Mining. You are given a text which contains numbered argument components enclosed by <AC></AC> tags. Your task is to identify argument relations between argument components in the text. You must return a list of pairs in the following JSON format: {\"list_argument_relations\": [[source AC (int), target AC (int)], ..., [source AC (int), target AC (int)]]}\\n', 'input': \"### Here is the text: <AC0>When an attorney is a 'Debt Collector' (as per their own documents) and not legally considered a 'Collection Agency' the attorney is not held accountable for consumer protection law violations (both local and federal) within civil court.</AC0><AC1> This loop hole needs to be addressed.</AC1><AC2> The attorneys/debt collectors are not monitored by the state bar</AC2><AC3> because it is a collection practice </AC3><AC4> (the attorneys buy old debt and then collect upon that debt in civil court</AC4><AC5> and the state and federal civil courts are not monitoring the attorneys</AC5><AC6> because it is an attorneys office and not considered a collection agency </AC6><AC7> - even though the attorneys buy old debt then take alleged debtors to civil court.</AC7><AC8> I personally know of a very large attorney agency in Washington State that even gives classes thru the Washington state bar to other attorneys</AC8><AC9> because it is a easy caseload to win.</AC9>\", 'output': '{\"list_argument_relations\": [[2, 3], [5, 6], [8, 9]]}'}\n",
      "\n"
     ]
    }
   ],
   "source": [
    "for i in range(5):\n",
    "    \n",
    "    print(data_file_train[i])\n",
    "    print()"
   ]
  },
  {
   "cell_type": "code",
   "execution_count": 21,
   "id": "3d724e7b-c002-45f3-ad2c-0341069d91ea",
   "metadata": {},
   "outputs": [],
   "source": [
    "data_file_test = []\n",
    "\n",
    "for sample in cdcp_dataset[\"test\"]:\n",
    "\n",
    "    sample_text = sample[\"text\"]\n",
    "    start_l = sample[\"propositions\"][\"start\"]\n",
    "    end_l = sample[\"propositions\"][\"end\"]\n",
    "    raw_relations = sample[\"relations\"]\n",
    "    \n",
    "    question = insert_tags(sample_text, start_l, end_l)\n",
    "    answer = get_ars(raw_relations)\n",
    "    \n",
    "    data_file_test.append( formatting_fct(instruction, question, answer, mode=\"train\") )"
   ]
  },
  {
   "cell_type": "code",
   "execution_count": 22,
   "id": "0ef8d353-526e-48e4-89c4-d7e05082fd4a",
   "metadata": {},
   "outputs": [
    {
     "data": {
      "text/plain": [
       "150"
      ]
     },
     "execution_count": 22,
     "metadata": {},
     "output_type": "execute_result"
    }
   ],
   "source": [
    "len(data_file_test)"
   ]
  },
  {
   "cell_type": "code",
   "execution_count": 23,
   "id": "1edc9c98-3134-4515-a301-28ef58864f38",
   "metadata": {},
   "outputs": [
    {
     "name": "stdout",
     "output_type": "stream",
     "text": [
      "{'instruction': '### You are an expert in Argument Mining. You are given a text which contains numbered argument components enclosed by <AC></AC> tags. Your task is to identify argument relations between argument components in the text. You must return a list of pairs in the following JSON format: {\"list_argument_relations\": [[source AC (int), target AC (int)], ..., [source AC (int), target AC (int)]]}\\n', 'input': \"### Here is the text: <AC0>Recently, courts have held that debt collectors can escape 1692i's venue provisions entirely by pursuing debt collection through arbitration instead.</AC0><AC1> As the NAF studies reflect, arbitration has not proven a satisfactory alternative.</AC1><AC2> I urge the CFPB to include in a rule language interpreting 1692i as requiring debt collectors to proceed in court, not through largely-unregulated arbitral forums.</AC2>\", 'output': '{\"list_argument_relations\": [[2, 1]]}'}\n",
      "\n",
      "{'instruction': '### You are an expert in Argument Mining. You are given a text which contains numbered argument components enclosed by <AC></AC> tags. Your task is to identify argument relations between argument components in the text. You must return a list of pairs in the following JSON format: {\"list_argument_relations\": [[source AC (int), target AC (int)], ..., [source AC (int), target AC (int)]]}\\n', 'input': '### Here is the text: <AC0>When alleged debtors are served with state court summonses, they are not always comprehensible to laypersons.</AC0><AC1> Any requirements to file papers to avoid default judgment</AC1><AC2> The date of any scheduled hearing and procedures for changing the date</AC2><AC3> Local and online sources of information for pro se defendants, and possibly local non-profit advice organizations.</AC3><AC4> That the debtor may wish to consider bankruptcy if they cannot pay their debts.</AC4>', 'output': '{\"list_argument_relations\": []}'}\n",
      "\n",
      "{'instruction': '### You are an expert in Argument Mining. You are given a text which contains numbered argument components enclosed by <AC></AC> tags. Your task is to identify argument relations between argument components in the text. You must return a list of pairs in the following JSON format: {\"list_argument_relations\": [[source AC (int), target AC (int)], ..., [source AC (int), target AC (int)]]}\\n', 'input': '### Here is the text: <AC0>To avoid consumers getting sued repeatedly on the same debt, the CFPB should require or encourage states to adopt rules requiring that judgments be preclusive of future consumer-collector litigation on the same debt;</AC0><AC1> instead, if there is a dispute between assignees as to who has title to the debt, they should work it out between themselves instead of risking subjecting the consumer to multiple liability.</AC1>', 'output': '{\"list_argument_relations\": []}'}\n",
      "\n",
      "{'instruction': '### You are an expert in Argument Mining. You are given a text which contains numbered argument components enclosed by <AC></AC> tags. Your task is to identify argument relations between argument components in the text. You must return a list of pairs in the following JSON format: {\"list_argument_relations\": [[source AC (int), target AC (int)], ..., [source AC (int), target AC (int)]]}\\n', 'input': '### Here is the text: <AC0>The solution to this problem is a mandate that account numbers and names on them not change during their life, no matter how many times transferred.</AC0><AC1> This goes for credit reporting agencies as well.</AC1>', 'output': '{\"list_argument_relations\": []}'}\n",
      "\n",
      "{'instruction': '### You are an expert in Argument Mining. You are given a text which contains numbered argument components enclosed by <AC></AC> tags. Your task is to identify argument relations between argument components in the text. You must return a list of pairs in the following JSON format: {\"list_argument_relations\": [[source AC (int), target AC (int)], ..., [source AC (int), target AC (int)]]}\\n', 'input': '### Here is the text: <AC0>If the present mortgage repayment debacle is any indication of noticing or added noticing I think it is much simpler to notify the consumer whom to pay and list the original creditor name.</AC0><AC1> Also, I think it would be a good idea for CFPB and the industry to combine this with FCRA issues.</AC1><AC2> For example, if a consumer today reviews their credit reports the normal term is \"sold to another lender\" but no name.</AC2><AC3> I have heard similar stories from attorneys who try to match what a consumer lists as a creditor versus what is listed in a credit report.</AC3><AC4> Seems to me that everyone is trying to close the back door but leaving the front door open.</AC4>', 'output': '{\"list_argument_relations\": [[4, 2], [4, 3]]}'}\n",
      "\n"
     ]
    }
   ],
   "source": [
    "for i in range(5):\n",
    "    \n",
    "    print(data_file_test[i])\n",
    "    print()"
   ]
  },
  {
   "cell_type": "markdown",
   "id": "13a8dad5-0a92-4460-a027-64e9d6ffba6a",
   "metadata": {},
   "source": [
    "## Save `jsonl` files"
   ]
  },
  {
   "cell_type": "code",
   "execution_count": 24,
   "id": "828863ac-a9f2-497a-8a1f-92b7685d1a48",
   "metadata": {
    "tags": []
   },
   "outputs": [],
   "source": [
    "file_path = os.path.join(os.getcwd(), \"../datasets/CDCP_ari_train.json\")\n",
    "\n",
    "with open(file_path, 'w') as file:\n",
    "    \n",
    "    json.dump(data_file_train, file)"
   ]
  },
  {
   "cell_type": "code",
   "execution_count": 25,
   "id": "7c0ed1c8-af63-42e5-831b-7a4b501241f7",
   "metadata": {
    "tags": []
   },
   "outputs": [],
   "source": [
    "file_path = os.path.join(os.getcwd(), \"../datasets/CDCP_ari_test.json\")\n",
    "\n",
    "with open(file_path, 'w') as file:\n",
    "    \n",
    "    json.dump(data_file_test, file)"
   ]
  },
  {
   "cell_type": "code",
   "execution_count": null,
   "id": "03a40b8a-ba7a-4a2a-9cc2-34d504828a4a",
   "metadata": {},
   "outputs": [],
   "source": []
  }
 ],
 "metadata": {
  "kernelspec": {
   "display_name": "Python 3 (ipykernel)",
   "language": "python",
   "name": "python3"
  },
  "language_info": {
   "codemirror_mode": {
    "name": "ipython",
    "version": 3
   },
   "file_extension": ".py",
   "mimetype": "text/x-python",
   "name": "python",
   "nbconvert_exporter": "python",
   "pygments_lexer": "ipython3",
   "version": "3.11.9"
  }
 },
 "nbformat": 4,
 "nbformat_minor": 5
}

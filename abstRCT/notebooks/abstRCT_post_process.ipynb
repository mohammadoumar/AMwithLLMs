{
 "cells": [
  {
   "cell_type": "code",
   "execution_count": null,
   "id": "9102ab39-9dd7-4263-bac4-c1d065480063",
   "metadata": {},
   "outputs": [],
   "source": []
  }
 ],
 "metadata": {
  "kernelspec": {
   "display_name": "",
   "name": ""
  },
  "language_info": {
   "name": ""
  }
 },
 "nbformat": 4,
 "nbformat_minor": 5
}

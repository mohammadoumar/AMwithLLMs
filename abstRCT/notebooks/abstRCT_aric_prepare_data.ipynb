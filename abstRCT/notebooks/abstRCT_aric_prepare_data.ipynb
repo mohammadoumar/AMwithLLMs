{
 "cells": [
  {
   "cell_type": "markdown",
   "id": "9b092f16-851d-4a47-ae4f-2a85603d6c77",
   "metadata": {},
   "source": [
    "# Prepare dataset (jsonl file)"
   ]
  },
  {
   "cell_type": "markdown",
   "id": "8798ef15",
   "metadata": {},
   "source": [
    "- Prepare AbstRCT datasets for llama factory.\n",
    "\n",
    "- Argument Relation Identification and Classification (ARIC) task.\n",
    "\n",
    "- We create the data files: `abstRCT_aric_train.json`, `abstRCT_aric_test_neo.json`, `abstRCT_aric_test_gla.json`, `abstRCT_aric_test_mix.json`"
   ]
  },
  {
   "cell_type": "markdown",
   "id": "afdfbf4b-663f-41af-85a1-266a48239c9e",
   "metadata": {},
   "source": [
    "## Libraries"
   ]
  },
  {
   "cell_type": "code",
   "execution_count": 1,
   "id": "872238e4-5235-4176-bd84-4cc384bca8d4",
   "metadata": {
    "tags": []
   },
   "outputs": [],
   "source": [
    "import os\n",
    "import re\n",
    "import ast\n",
    "import json\n",
    "import random\n",
    "import pickle\n",
    "import pandas as pd"
   ]
  },
  {
   "cell_type": "markdown",
   "id": "73e8dd5a-d4ae-4bec-8a19-112540ec03e1",
   "metadata": {},
   "source": [
    "### Helper Functions"
   ]
  },
  {
   "cell_type": "code",
   "execution_count": 2,
   "id": "f76eecf7-5aec-4513-a532-c561263ec6ef",
   "metadata": {},
   "outputs": [],
   "source": [
    "def get_triplet(x):\n",
    "\n",
    "    return [x.adu_pos, x.parent_pos, x.afu]"
   ]
  },
  {
   "cell_type": "code",
   "execution_count": 3,
   "id": "b11c9994-2b90-47b8-a265-2649e31dcf81",
   "metadata": {},
   "outputs": [],
   "source": [
    "def process_aty(x):\n",
    "\n",
    "    x = x.aty\n",
    "    x = x.split(\" \")\n",
    "    return x"
   ]
  },
  {
   "cell_type": "code",
   "execution_count": 4,
   "id": "26a0b41e-890f-4924-9499-bfbede6cb78a",
   "metadata": {},
   "outputs": [],
   "source": [
    "def filter_nones(x):\n",
    "\n",
    "    ar_l = x.relation_type\n",
    "\n",
    "    rel_l = [item for item in ar_l if item[2] != 'none']\n",
    "\n",
    "    return rel_l"
   ]
  },
  {
   "cell_type": "code",
   "execution_count": 5,
   "id": "252f338c-05a6-4b3c-b7eb-8b373fe45786",
   "metadata": {},
   "outputs": [],
   "source": [
    "def insert_ac_tags(x):\n",
    "\n",
    "    abstract_text = x.abstract_text\n",
    "    acs_list = x.acs_list\n",
    "    ac_types_list = x.ac_types\n",
    "\n",
    "    \n",
    "    # for idx, ac in enumerate(acs_list):\n",
    "    \n",
    "    counter = 1\n",
    "    for idx, (ac, ac_type) in enumerate(zip(acs_list, ac_types_list)):\n",
    "\n",
    "        # if ac != '':\n",
    "        \n",
    "        if ac != '' and ac_type != 'none':\n",
    "\n",
    "            # ac_tags_w_tags = f\"<AC> \" + ac + f\" </AC>\"\n",
    "            \n",
    "            ac_tags_w_tags = f\"\"\"<AC{counter}> \"\"\" + ac + f\"\"\" </AC{counter}>\"\"\" \n",
    "            abstract_text = abstract_text.replace(ac, ac_tags_w_tags) \n",
    "            counter += 1\n",
    "\n",
    "    return abstract_text"
   ]
  },
  {
   "cell_type": "code",
   "execution_count": 6,
   "id": "779dcc66-df7a-4fee-a1a1-a1f86a012ebf",
   "metadata": {},
   "outputs": [],
   "source": [
    "def get_dataframe(dataset):\n",
    "\n",
    "    rct_df = pd.read_csv(os.path.join(data_dir, dataset))\n",
    "    rct_df['relation_type'] = rct_df.apply(lambda x: get_triplet(x), axis=1)\n",
    "    rct_df = rct_df.drop_duplicates(subset=[\"text\"], keep=\"first\")   \n",
    "\n",
    "    \n",
    "    abstract_texts_df = rct_df.fillna('').groupby([\"doc_id\"]).agg({\"text\": \"\".join, \"aty\": \" \".join}).reset_index()\n",
    "    abstract_acs_df = rct_df.fillna('').groupby('doc_id')['text'].agg(list).reset_index()\n",
    "    abstract_ars_df = rct_df.fillna('').groupby('doc_id')['relation_type'].agg(list).reset_index()\n",
    "    \n",
    "    abstract_texts_df[\"ac_types\"] = abstract_texts_df.apply(lambda x: process_aty(x), axis=1)\n",
    "\n",
    "    abstract_texts_df.rename(columns={'text': 'abstract_text'}, inplace=True)\n",
    "    abstract_texts_df.drop(columns=['aty'], inplace=True)\n",
    "    abstract_acs_df.rename(columns={'text': 'acs_list'}, inplace=True)\n",
    "    \n",
    "    df_merged_1 = pd.merge(abstract_texts_df, abstract_acs_df, on='doc_id')\n",
    "    df_merged = pd.merge(df_merged_1, abstract_ars_df, on='doc_id')\n",
    "\n",
    "    df_merged[\"tagged_abstract_text\"] = df_merged.apply(lambda x: insert_ac_tags(x), axis=1)\n",
    "    df_merged['relations_list'] = df_merged.apply(lambda x: filter_nones(x), axis=1)\n",
    "\n",
    "    return df_merged    "
   ]
  },
  {
   "cell_type": "markdown",
   "id": "7af75678-bbcc-4cfa-9b81-c9a66d170182",
   "metadata": {},
   "source": [
    "## Load Data"
   ]
  },
  {
   "cell_type": "code",
   "execution_count": 7,
   "id": "0da5ee17-0803-41cc-91c9-1cec32f672d4",
   "metadata": {
    "tags": []
   },
   "outputs": [],
   "source": [
    "data_dir = os.path.join(os.getcwd(), \"../data\")"
   ]
  },
  {
   "cell_type": "code",
   "execution_count": 37,
   "id": "6c29d518-a1d6-4166-8071-8f92460153a9",
   "metadata": {},
   "outputs": [],
   "source": [
    "neo_train_df = get_dataframe(\"neo/train.csv\")"
   ]
  },
  {
   "cell_type": "code",
   "execution_count": 38,
   "id": "0ecb4ffa-4a74-40dd-973f-78daadec1303",
   "metadata": {},
   "outputs": [],
   "source": [
    "neo_test_df = get_dataframe(\"neo/test.csv\")"
   ]
  },
  {
   "cell_type": "code",
   "execution_count": 39,
   "id": "6f2d4cf8-da3d-4188-b771-cb1cc3e33516",
   "metadata": {},
   "outputs": [],
   "source": [
    "gla_test_df = get_dataframe(\"gla/test.csv\")"
   ]
  },
  {
   "cell_type": "code",
   "execution_count": 40,
   "id": "1686a4f9-3aeb-48e8-9112-1dcd8be809a9",
   "metadata": {},
   "outputs": [],
   "source": [
    "mix_test_df = get_dataframe(\"mix/test.csv\")"
   ]
  },
  {
   "cell_type": "code",
   "execution_count": 48,
   "id": "dc93c186-096a-4d0e-9bb2-117e167796ed",
   "metadata": {},
   "outputs": [
    {
     "data": {
      "text/plain": [
       "doc_id                                                           10403690\n",
       "abstract_text            In a prospective randomized study, 287 patien...\n",
       "ac_types                [none, Premise, Premise, Premise, Premise, Pre...\n",
       "acs_list                [ In a prospective randomized study, 287 patie...\n",
       "relation_type           [[0, 0, none], [1, 0, none], [2, 6, support], ...\n",
       "tagged_abstract_text     In a prospective randomized study, 287 patien...\n",
       "relations_list          [[2, 6, support], [3, 6, support], [4, 6, supp...\n",
       "Name: 7, dtype: object"
      ]
     },
     "execution_count": 48,
     "metadata": {},
     "output_type": "execute_result"
    }
   ],
   "source": [
    "neo_test_df.iloc[7]"
   ]
  },
  {
   "cell_type": "code",
   "execution_count": 49,
   "id": "8aeffc99-351c-484f-807b-831e06eb0d0f",
   "metadata": {},
   "outputs": [
    {
     "data": {
      "text/plain": [
       "[[2, 6, 'support'], [3, 6, 'support'], [4, 6, 'support'], [5, 6, 'support']]"
      ]
     },
     "execution_count": 49,
     "metadata": {},
     "output_type": "execute_result"
    }
   ],
   "source": [
    "neo_test_df.iloc[7]['relations_list']"
   ]
  },
  {
   "cell_type": "code",
   "execution_count": 42,
   "id": "d3c7d925-84a2-4135-8684-90d09657cb54",
   "metadata": {},
   "outputs": [],
   "source": [
    "neo_train_df.to_pickle(\"../datasets/neo_train_df.pkl\")\n",
    "neo_test_df.to_pickle(\"../datasets/neo_test_df.pkl\")\n",
    "gla_test_df.to_pickle(\"../datasets/gla_test_df.pkl\")\n",
    "mix_test_df.to_pickle(\"../datasets/mix_test_df.pkl\")"
   ]
  },
  {
   "cell_type": "markdown",
   "id": "63a578e2-63f5-4860-965c-ef5e659149a7",
   "metadata": {},
   "source": [
    "## Prepare prompt"
   ]
  },
  {
   "cell_type": "code",
   "execution_count": 13,
   "id": "f02ffd05-4249-4830-9752-5b96c2d48d27",
   "metadata": {
    "tags": []
   },
   "outputs": [],
   "source": [
    "def formatting_fct(instruction=\"\", input=\"\", output=\"\"):\n",
    "    \n",
    "    prompt_d ={\n",
    "            \n",
    "        \"instruction\": f\"\"\"{instruction}\"\"\",\n",
    "        \"input\": f\"\"\"{input}\"\"\",\n",
    "        \"output\": f\"\"\"{output}\"\"\"\n",
    "            \n",
    "        }\n",
    "    \n",
    "    return prompt_d"
   ]
  },
  {
   "cell_type": "code",
   "execution_count": 14,
   "id": "ae5d7d10-d513-47fc-a179-3000cb220ab0",
   "metadata": {},
   "outputs": [],
   "source": [
    "def write_instruction():\n",
    "\n",
    "    # results = json.dumps([\"component_type (str)\"] * nr_acs)\n",
    "\n",
    "    instruction = \"\"\"### You are an expert in Argument Mining. You are given a biomedical abstract text which contains numbered argument components enclosed by <AC></AC> tags. Your task is to identify argument relations between argument components in the abstract text and classify their relation type as either \"support\" or \"attack\". You must return a list of triplets in the following JSON format: {\"list_argument_relation_types\": [[source AC (int), target AC (int), relation_type (str)], ..., [source AC (int), target AC (int), relation_type (str)]]} where each element \"relation_type (str)\" is replaced by either \"support\" or \"attack\".\n",
    "\"\"\"\n",
    "    \n",
    "    return instruction"
   ]
  },
  {
   "cell_type": "code",
   "execution_count": 15,
   "id": "259d514f-fc74-4af1-ad9f-ff2010d9a817",
   "metadata": {},
   "outputs": [
    {
     "data": {
      "text/plain": [
       "'### You are an expert in Argument Mining. You are given a biomedical abstract text which contains numbered argument components enclosed by <AC></AC> tags. Your task is to identify argument relations between argument components in the abstract text and classify their relation type as either \"support\" or \"attack\". You must return a list of triplets in the following JSON format: {\"list_argument_relation_types\": [[source AC (int), target AC (int), relation_type (str)], ..., [source AC (int), target AC (int), relation_type (str)]]} where each element \"relation_type (str)\" is replaced by either \"support\" or \"attack\".\\n'"
      ]
     },
     "execution_count": 15,
     "metadata": {},
     "output_type": "execute_result"
    }
   ],
   "source": [
    "write_instruction()"
   ]
  },
  {
   "cell_type": "code",
   "execution_count": 16,
   "id": "0c4cafc8-0d86-4fe4-9e94-294a4452aea7",
   "metadata": {},
   "outputs": [],
   "source": [
    "def build_input(abstract_text):\n",
    "    \n",
    "    question = f\"\"\"### Here is the abstract text: {abstract_text}\"\"\"\n",
    "    \n",
    "    return question"
   ]
  },
  {
   "cell_type": "code",
   "execution_count": 17,
   "id": "a8e99d0f-db25-41f3-b3e7-2ac1633ba923",
   "metadata": {},
   "outputs": [],
   "source": [
    "def build_answer(relation_types):\n",
    "\n",
    "    #ac_types = [label for label in ac_types if label != 'none']\n",
    "    #ac_types = ['Claim' if label == 'MajorClaim' else label for label in ac_types]\n",
    "    return json.dumps({\"list_argument_relation_types\": relation_types})"
   ]
  },
  {
   "cell_type": "markdown",
   "id": "f31d0903-ee1f-49a1-a8b9-0009fce405cb",
   "metadata": {},
   "source": [
    "## Prepare data files"
   ]
  },
  {
   "cell_type": "markdown",
   "id": "17e0797b-50be-40e6-9eb8-632737d694e9",
   "metadata": {},
   "source": [
    "### train file (neo)"
   ]
  },
  {
   "cell_type": "code",
   "execution_count": 18,
   "id": "a7b9ef0d-3571-4400-b182-63112067fb35",
   "metadata": {},
   "outputs": [],
   "source": [
    "data_file_train = []\n",
    "\n",
    "for index, _ in neo_train_df.iterrows():\n",
    "    i = index\n",
    "\n",
    "    instruction = write_instruction()\n",
    "    question = build_input(neo_train_df.iloc[i].tagged_abstract_text)\n",
    "    answer = build_answer(neo_train_df.iloc[i].relations_list)\n",
    "    \n",
    "    data_file_train.append( formatting_fct(instruction, question, answer) )"
   ]
  },
  {
   "cell_type": "code",
   "execution_count": 19,
   "id": "a19bd3b3-1590-48a1-8efd-19ba363eaa38",
   "metadata": {},
   "outputs": [
    {
     "data": {
      "text/plain": [
       "350"
      ]
     },
     "execution_count": 19,
     "metadata": {},
     "output_type": "execute_result"
    }
   ],
   "source": [
    "len(data_file_train)"
   ]
  },
  {
   "cell_type": "code",
   "execution_count": 20,
   "id": "456cd2de-03c4-4c2d-80a6-6afaa9265551",
   "metadata": {
    "scrolled": true
   },
   "outputs": [
    {
     "name": "stdout",
     "output_type": "stream",
     "text": [
      "{'instruction': '### You are an expert in Argument Mining. You are given a biomedical abstract text which contains numbered argument components enclosed by <AC></AC> tags. Your task is to identify argument relations between argument components in the abstract text and classify their relation type as either \"support\" or \"attack\". You must return a list of triplets in the following JSON format: {\"list_argument_relation_types\": [[source AC (int), target AC (int), relation_type (str)], ..., [source AC (int), target AC (int), relation_type (str)]]} where each element \"relation_type (str)\" is replaced by either \"support\" or \"attack\".\\n', 'input': '### Here is the abstract text:  Single-agent therapy with bicalutamide, a nonsteroidal antiandrogen, was compared with castration, either surgical or medical, in patients with untreated Stage D2 prostate cancer. In an open, randomized, multicenter trial, patients were randomized to treatment with 50 mg bicalutamide (n = 243) once daily or to castration (n = 243), either orchiectomy or depot injection of goserelin acetate every 28 days. Primary efficacy endpoints were times to treatment failure and objective disease progression and survival. Assessments included review of measurable metastases, prostate dimensions, Eastern Cooperative Oncology Group performance status, pain, analgesic requirements, and quality of life responses. The median duration of therapy was 39 weeks for bicalutamide-treated patients and 42 weeks for castrated patients; treatment failure occurred in 53% and 42% and disease progression in 43% and 33%, respectively.<AC1> Treatment effects favored castration for both endpoints (P < or = 0.002), with hazard ratios (bicalutamide:castration) of 1.54 (95% confidence interval [CI], 1.18 to 2.00) for time to treatment failure and 1.6 (95% CI, 1.19 to 2.15) for time to disease progression. </AC1><AC2> From the 1-year survival analysis, the hazard ratio for probability of death was 1.29 (95% CI, 0.96 to 1.72). </AC2><AC3> Thus far, with a median follow-up of 86 weeks, median survival has not been reached in either group. </AC3><AC4> Changes from baseline in several quality of life variables were significantly different (P < or = 0.01) between treatment groups periodically from months 1 to 6, and all favored bicalutamide. </AC4><AC5> Overall, the antiandrogen was well tolerated compared with castration; </AC5><AC6> with bicalutamide, hot flushes occurred less often and breast tenderness and gynecomastia more often. </AC6><AC7> Although a dosage of 50 mg of bicalutamide once daily was not as effective as castration, </AC7><AC8> the favorable quality of life outcomes and the low incidence of nonhormonal adverse events provide reasons to evaluate bicalutamide, as a single therapeutic agent, at higher doses. </AC8>', 'output': '{\"list_argument_relation_types\": [[1, 8, \"attack\"], [2, 8, \"support\"], [3, 2, \"attack\"], [4, 8, \"support\"], [5, 8, \"support\"], [6, 8, \"support\"], [7, 8, \"attack\"]]}'}\n",
      "\n",
      "{'instruction': '### You are an expert in Argument Mining. You are given a biomedical abstract text which contains numbered argument components enclosed by <AC></AC> tags. Your task is to identify argument relations between argument components in the abstract text and classify their relation type as either \"support\" or \"attack\". You must return a list of triplets in the following JSON format: {\"list_argument_relation_types\": [[source AC (int), target AC (int), relation_type (str)], ..., [source AC (int), target AC (int), relation_type (str)]]} where each element \"relation_type (str)\" is replaced by either \"support\" or \"attack\".\\n', 'input': '### Here is the abstract text:  An open, randomized study was performed to assess the effects of supportive pamidronate treatment on morbidity from bone metastases in breast cancer patients. Eighty-one pamidronate patients and 80 control patients were monitored for a median of 18 and 21 months, respectively, for events of skeletal morbidity and the radiologic course of metastatic bone disease. The oral pamidronate dose was 600 mg/d (high dose [HD]) during the earliest study years, then changed to 300 mg/d (low dose [LD]) because of gastrointestinal toxicity. Twenty-nine of 81 pamidronate (HD/LD) patients first received 600 mg/d and were then changed to 300 mg/d; 52 of 81 pamidronate LD patients received 300 mg/d throughout the study. Tumor treatment was unrestricted. An overall intent-to-treat analysis was performed.<AC1> In the pamidronate group, the occurrence of hypercalcemia, severe bone pain, and symptomatic impending fractures decreased by 65%, 30%, and 50%, respectively; event-rates of systemic treatment and radiotherapy decreased by 35% (P < or = .02). </AC1><AC2> The event-free period (EFP), radiologic course of disease, and survival did not improve. </AC2><AC3> Subgroup analyses suggested a dose-dependent treatment effect. </AC3><AC4> Compared with their controls, in pamidronate HD/LD patients, events occurred 60% to 90% less frequently (P < or = .03) and the EFP was prolonged (P = .002). </AC4><AC5> In pamidronate LD patients, event-rates decreased by 15% to 45% (P < or = .04). </AC5><AC6> Gastrointestinal toxicity of pamidronate caused a 23% drop-out rate, </AC6><AC7> but other cancer-associated factors seemed to contribute to this toxicity. </AC7><AC8> Pamidronate treatment of breast cancer patients efficaciously reduced skeletal morbidity. </AC8><AC9> The effect appeared to be dose-dependent. </AC9><AC10> Further research on dose and mode of treatment is mandatory. </AC10>', 'output': '{\"list_argument_relation_types\": [[1, 8, \"support\"], [3, 9, \"support\"], [4, 8, \"support\"], [5, 8, \"support\"], [7, 6, \"attack\"], [9, 8, \"attack\"], [10, 8, \"attack\"]]}'}\n",
      "\n",
      "{'instruction': '### You are an expert in Argument Mining. You are given a biomedical abstract text which contains numbered argument components enclosed by <AC></AC> tags. Your task is to identify argument relations between argument components in the abstract text and classify their relation type as either \"support\" or \"attack\". You must return a list of triplets in the following JSON format: {\"list_argument_relation_types\": [[source AC (int), target AC (int), relation_type (str)], ..., [source AC (int), target AC (int), relation_type (str)]]} where each element \"relation_type (str)\" is replaced by either \"support\" or \"attack\".\\n', 'input': '### Here is the abstract text:  From 1984 to 1989, the Swiss Group for Clinical Cancer Research (SAKK) performed a randomized phase III trial comparing early versus late alternating chemotherapy in patients with small-cell lung cancer. 406 eligible patients were entered into the trial. Regimen A consisted of PAV (cisPlatin, Adriamycin, VP 16-213, and Regimen B of CyMOC (Cyclophosphamide, Methotrexate, Oncovin, CCNU). Cycles were repeated as rapidly as possible. patients were randomized to receive either ABABAB (early alternating chemotherapy) or AAABBB (late alternating chemotherapy). After six cycles patients with limited disease in complete or partial remission and those with extensive disease in complete remission received irradiation to the primary (45 Gy) and the CNS (36 Gy).<AC1> The overall remission rate was 87% with 31% complete remissions. </AC1><AC2> The median survival of all 406 eligible patients was 346 days with 15% of the patients alive at two years. </AC2><AC3> The overall remission rate, the rate of complete remission, the median survival and the rate of long-term survival were not significantly different in the two treatment arms. </AC3><AC4> In limited disease the estimated percentages of survival at 2 years were 33% in the early and 24% in the late alternating chemotherapy arms. </AC4><AC5> Patients with extensive disease survived significantly longer with late alternating chemotherapy than on the early alternation regimen (median survival 336 days versus 301 days, p = 0.01). </AC5><AC6> In the latter patients the received dose intensities (RDI) of cisplatin, adriamycin and etoposide were significantly higher in the late-alternation arm. </AC6><AC7> Patients treated with early alternating chemotherapy rated their tumor symptoms, functional states, fatigue/malaise and restriction of social activity significantly better, reflecting an improved subjective adjustment. </AC7><AC8> Alternating chemotherapy with PAV-CyMOC plus consolidating radiotherapy is a feasible and effective treatment for small-cell lung cancer, with acceptable toxicity. </AC8>Whereas<AC9> patients with early alternating chemotherapy achieve a better subjective adjustment, </AC9><AC10> late alternating chemotherapy allows for a higher RDI of cisplatin, adriamycin and etoposide, which results in a significantly longer median survival of patients with extensive disease. </AC10>', 'output': '{\"list_argument_relation_types\": [[1, 8, \"support\"], [2, 8, \"support\"], [3, 8, \"support\"], [4, 10, \"support\"], [5, 10, \"support\"], [6, 10, \"support\"], [7, 9, \"support\"]]}'}\n",
      "\n"
     ]
    }
   ],
   "source": [
    "for i in range(3):\n",
    "    \n",
    "    print(data_file_train[i])\n",
    "    print()"
   ]
  },
  {
   "cell_type": "markdown",
   "id": "83d26419-bcf0-4f1b-a7a5-de559f071424",
   "metadata": {},
   "source": [
    "### test file (neo)"
   ]
  },
  {
   "cell_type": "code",
   "execution_count": 21,
   "id": "2448b927-fb4c-4685-b815-a69149051360",
   "metadata": {},
   "outputs": [],
   "source": [
    "data_file_test_neo = []\n",
    "\n",
    "for index, _ in neo_test_df.iterrows():    \n",
    "    i = index\n",
    "    \n",
    "    instruction = write_instruction()\n",
    "    question = build_input(neo_test_df.iloc[i].tagged_abstract_text)\n",
    "    answer = build_answer(neo_test_df.iloc[i].relations_list)\n",
    "    \n",
    "    data_file_test_neo.append( formatting_fct(instruction, question, answer) )"
   ]
  },
  {
   "cell_type": "code",
   "execution_count": 22,
   "id": "39343c8e-81b8-417e-814b-32cc389926d7",
   "metadata": {},
   "outputs": [
    {
     "data": {
      "text/plain": [
       "100"
      ]
     },
     "execution_count": 22,
     "metadata": {},
     "output_type": "execute_result"
    }
   ],
   "source": [
    "len(data_file_test_neo)"
   ]
  },
  {
   "cell_type": "code",
   "execution_count": 23,
   "id": "65ab5a50-88bc-4758-b261-4b315e98f193",
   "metadata": {
    "scrolled": true
   },
   "outputs": [
    {
     "name": "stdout",
     "output_type": "stream",
     "text": [
      "{'instruction': '### You are an expert in Argument Mining. You are given a biomedical abstract text which contains numbered argument components enclosed by <AC></AC> tags. Your task is to identify argument relations between argument components in the abstract text and classify their relation type as either \"support\" or \"attack\". You must return a list of triplets in the following JSON format: {\"list_argument_relation_types\": [[source AC (int), target AC (int), relation_type (str)], ..., [source AC (int), target AC (int), relation_type (str)]]} where each element \"relation_type (str)\" is replaced by either \"support\" or \"attack\".\\n', 'input': '### Here is the abstract text:  To investigate the effects of medroxyprogesterone acetate (MPA) on appetite, weight, and quality of life (QL) in patients with advanced-stage, incurable, non-hormone-sensitive cancer. Two hundred six eligible patients were randomized between double-blind MPA 500 mg twice daily or placebo. Appetite (0 to 10 numerical rating scale), weight, and QL (European Organization for Research and Treatment of Cancer Quality of Life Questionnaire [EORTC-QLQ-C30]) were assessed before the start of treatment (t = 0), and 6 weeks (t = 6) and 12 weeks (t = 12) thereafter. One hundred thirty-four patients (68 MPA and 66 placebo) were assessable at t = 6 and 99 patients (53 MPA and 46 placebo) at t = 12.<AC1> A beneficial effect of MPA on appetite was observed after both 6 weeks (P = .008) and 12 weeks (P = .01) of treatment. </AC1><AC2> After 12 weeks, a mean weight gain of 0.6 +/- 4.4 kg was seen in the MPA, versus an ongoing mean weight loss of 1.4 +/- 4.6 kg in the placebo group. </AC2><AC3> This difference of 2.0 kg was statistically significant (P = .04). </AC3><AC4> During the study, several areas of QL deteriorated in the total group of patients. </AC4><AC5> With the exception of an improvement in appetite and possible also a reduction in nausea and vomiting, no measurable beneficial effects of MPA on QL could be demonstrated. </AC5><AC6> The side effects profile of MPA was favorable: only a trend toward an increase in (usually mild) peripheral edema was observed. </AC6><AC7> In weight-losing, advanced-stage non-hormone-sensitive cancer patients, MPA exhibits a mild side effects profile, has a beneficial effect on appetite, and may prevent further weight loss. </AC7><AC8> However, general QL in the present study was not measurably influenced by MPA treatment. </AC8>', 'output': '{\"list_argument_relation_types\": [[1, 7, \"support\"], [2, 7, \"support\"], [3, 2, \"support\"], [4, 5, \"support\"], [5, 8, \"support\"], [6, 7, \"support\"], [8, 7, \"attack\"]]}'}\n",
      "\n",
      "{'instruction': '### You are an expert in Argument Mining. You are given a biomedical abstract text which contains numbered argument components enclosed by <AC></AC> tags. Your task is to identify argument relations between argument components in the abstract text and classify their relation type as either \"support\" or \"attack\". You must return a list of triplets in the following JSON format: {\"list_argument_relation_types\": [[source AC (int), target AC (int), relation_type (str)], ..., [source AC (int), target AC (int), relation_type (str)]]} where each element \"relation_type (str)\" is replaced by either \"support\" or \"attack\".\\n', 'input': '### Here is the abstract text: <AC1> Combined radiation therapy and chemotherapy after surgery, compared with postsurgical radiation therapy alone, has been shown to improve disease-free survival and overall survival significantly among patients with poor-prognosis (i.e., advanced stage disease or metastasis to regional lymph nodes) resectable rectal cancer. </AC1><AC2> However, the combined therapy is associated with more toxic effects, raising the question of whether the benefits of the treatment justify its quality-of-life costs for the individual patient. </AC2>To assess the trade-offs between improved survival and increased treatment toxicity, we reanalyzed data from a randomized clinical trial that compared the efficacy of combined adjuvant chemotherapy and radiation therapy with adjuvant radiation therapy alone in the treatment of patients with poor-prognosis resectable rectal cancer. The data were from a North Central Cancer Treatment Group trial in which 204 patients with poor-prognosis rectal cancer were randomly assigned to receive either postoperative radiation therapy alone or radiation therapy plus fluorouracil-based chemotherapy. A quality-adjusted time without symptoms or toxicity (Q-TWiST) analysis was used to account for freedom from symptomatic disease and from early and late side effects of treatment. All reported P values are two-sided.<AC3> As reported previously, the combined therapy reduced the risk of relapse by 34% (95% confidence interval [CI] = 12%-50%; P = .0016) and reduced the overall death rate by 29% (95% CI = 7%-45%; P = .025) in comparison with adjuvant radiation therapy alone. </AC3><AC4> In the 5 years following assignment to treatment, patients who received the combined therapy had more time with toxicity (3.1 months; 95% CI = 2.0-4.1 months), shorter survival after relapse (3.6 months less; 95% CI = 0.9-6.3 months less), and more TWiST (6.1 months; 95% CI = 0.2-12.0 months) than patients who received adjuvant radiation therapy alone. </AC4><AC5> Despite an increase in the amount of time that individuals spent with early and late toxic effects, the Q-TWiST analysis indicated that the combined therapy conferred significantly greater benefit for a wide range of patient preferences about living with the toxicity of treatment or the symptoms of overt disease. </AC5><AC6> Use of combined chemotherapy and radiation therapy as an adjuvant to surgery for patients with poor-prognosis resectable rectal cancer is justified, </AC6><AC7> since the improved outcome in terms of delayed recurrence and increased survival balances the time spent with early and late toxic effects. </AC7><AC8> The Q-TWiST method is an excellent way to compare treatment outcomes that include quality-of-life considerations. </AC8>', 'output': '{\"list_argument_relation_types\": [[3, 6, \"support\"], [4, 5, \"support\"], [7, 6, \"support\"]]}'}\n",
      "\n",
      "{'instruction': '### You are an expert in Argument Mining. You are given a biomedical abstract text which contains numbered argument components enclosed by <AC></AC> tags. Your task is to identify argument relations between argument components in the abstract text and classify their relation type as either \"support\" or \"attack\". You must return a list of triplets in the following JSON format: {\"list_argument_relation_types\": [[source AC (int), target AC (int), relation_type (str)], ..., [source AC (int), target AC (int), relation_type (str)]]} where each element \"relation_type (str)\" is replaced by either \"support\" or \"attack\".\\n', 'input': '### Here is the abstract text: <AC1> Cerebral metastasis is a common oncologic problem that occurs in 15-30% of cancer patients; </AC1>approximately half such metastases are single. Previous retrospective studies and two randomized trials reported that the addition of surgical extirpation prior to radiation therapy increased survival, neurologic function, and quality of life compared with radiation alone in patients with a single brain metastasis. A randomized controlled trial was conducted in which patients with a single brain metastasis were allocated to undergo radiation alone or surgery plus radiation. Radiation consisted of 3000 centigray to the whole brain in 10 fractions. Forty-three patients received radiation alone and 41 patients surgery plus radiation. All but two of the study patients died.<AC2> No difference in survival was detected between the groups; </AC2><AC3> the median survival for the radiation group was 6.3 months (95% confidence interval, 3-11.4) compared with 5.6 months for the surgery plus radiation group (95% confidence interval, 3.9-7.2) (P = 0.24). </AC3><AC4> Most patients died within the first year (69.8% in the radiation arm vs. 87.8% in the surgery plus radiation arm). </AC4><AC5> There were no significant differences in the 30-day mortality, morbidity, or causes of death. </AC5><AC6> Extracranial metastases was an important predictor of mortality (relative risk, 2.3). </AC6><AC7> The mean proportion of days that the Karnofsky performance status was > or = 70% did not differ between the 2 groups. </AC7><AC8> This trial failed to demonstrate that the addition of surgery to radiation therapy improved outcome of patients with a single brain metastasis. </AC8><AC9> Thus, the efficacy of surgery plus radiation compared with radiation alone needs to be addressed by further clinical trials and/or a meta-analysis. </AC9>', 'output': '{\"list_argument_relation_types\": [[2, 8, \"support\"], [3, 2, \"support\"], [4, 8, \"support\"], [5, 8, \"support\"], [7, 8, \"support\"], [8, 9, \"support\"]]}'}\n",
      "\n"
     ]
    }
   ],
   "source": [
    "for i in range(3):\n",
    "    \n",
    "    print(data_file_test_neo[i])\n",
    "    print()"
   ]
  },
  {
   "cell_type": "code",
   "execution_count": 24,
   "id": "295d3c5f-a8ae-4426-b521-2d492b558fa1",
   "metadata": {},
   "outputs": [],
   "source": [
    "# Error!\n",
    "# Error corrected !"
   ]
  },
  {
   "cell_type": "markdown",
   "id": "67a7c21d-e630-4cbe-9c0d-034a91bab852",
   "metadata": {},
   "source": [
    "### test file (gla)"
   ]
  },
  {
   "cell_type": "code",
   "execution_count": 25,
   "id": "d23954ab-52eb-4fc2-b94c-3aa5ba0ea1c3",
   "metadata": {},
   "outputs": [],
   "source": [
    "data_file_test_gla = []\n",
    "\n",
    "for index, _ in gla_test_df.iterrows():    \n",
    "    i = index\n",
    "    \n",
    "    instruction = write_instruction()\n",
    "    question = build_input(gla_test_df.iloc[i].tagged_abstract_text)\n",
    "    answer = build_answer(gla_test_df.iloc[i].relations_list)\n",
    "    \n",
    "    data_file_test_gla.append( formatting_fct(instruction, question, answer) )"
   ]
  },
  {
   "cell_type": "code",
   "execution_count": 26,
   "id": "53b7e9df-a49d-4446-84d4-5c35a048f8d5",
   "metadata": {},
   "outputs": [
    {
     "data": {
      "text/plain": [
       "100"
      ]
     },
     "execution_count": 26,
     "metadata": {},
     "output_type": "execute_result"
    }
   ],
   "source": [
    "len(data_file_test_gla)"
   ]
  },
  {
   "cell_type": "code",
   "execution_count": 27,
   "id": "fa7d8a1d-26b1-42a3-a098-584b0cfb639c",
   "metadata": {
    "scrolled": true
   },
   "outputs": [
    {
     "name": "stdout",
     "output_type": "stream",
     "text": [
      "{'instruction': '### You are an expert in Argument Mining. You are given a biomedical abstract text which contains numbered argument components enclosed by <AC></AC> tags. Your task is to identify argument relations between argument components in the abstract text and classify their relation type as either \"support\" or \"attack\". You must return a list of triplets in the following JSON format: {\"list_argument_relation_types\": [[source AC (int), target AC (int), relation_type (str)], ..., [source AC (int), target AC (int), relation_type (str)]]} where each element \"relation_type (str)\" is replaced by either \"support\" or \"attack\".\\n', 'input': '### Here is the abstract text: \\n\\nIn a randomized clinical trial, the authors compared the use of postoperative subconjunctival injections of 5-fluorouracil (5-FU) in 19 eyes with a single intraoperative application of subconjunctival mitomycin (MMC) at the filtering site in 20 eyes at high risk for failure of glaucoma filtering surgery.<AC1> Six months after surgery, intraocular pressures averaged 10.9 +/- 5.3 mmHg (mean +/- standard deviation) in the MMC-treated eyes versus 14.2 +/- 5.5 mmHg in the 5-FU-treated eyes (P = 0.08) and were less than or equal to 12 mmHg in 60.0% of MMC-treated eyes and 21.1% of 5-FU-treated eyes (P = 0.03). </AC1>Mitomycin-treated eyes were receiving an average of 0.3 +/- 0.5 medications for intraocular pressure control, and 5-FU-treated eyes were receiving an average of 1.1 +/- 1.1 medications (P = 0.01).<AC2> Drug-induced corneal epithelial defects were seen in nine 5-FU-treated eyes and in no MMC-treated eyes (P = 0.0004). </AC2><AC3> These results suggest that intraoperative MMC may be a viable alternative to postoperative 5-FU, with lower overall intraocular pressures, decreased dependence on postoperative ocular antihypertensive medications, and decreased corneal toxicity. </AC3>', 'output': '{\"list_argument_relation_types\": [[1, 3, \"support\"], [2, 3, \"support\"]]}'}\n",
      "\n",
      "{'instruction': '### You are an expert in Argument Mining. You are given a biomedical abstract text which contains numbered argument components enclosed by <AC></AC> tags. Your task is to identify argument relations between argument components in the abstract text and classify their relation type as either \"support\" or \"attack\". You must return a list of triplets in the following JSON format: {\"list_argument_relation_types\": [[source AC (int), target AC (int), relation_type (str)], ..., [source AC (int), target AC (int), relation_type (str)]]} where each element \"relation_type (str)\" is replaced by either \"support\" or \"attack\".\\n', 'input': '### Here is the abstract text: \\n\\nWe conducted a prospective, randomized study to compare mitomycin with fluorouracil for efficacy and safety as an adjunct to trabeculectomy in eyes with glaucoma with poor surgical prognosis. Thirty-two eyes of 32 patients were randomly allocated to either mitomycin (17 eyes) or fluorouracil therapy (15 eyes). Mitomycin (0.2 mg) was applied only once during trabeculectomy, and fluorouracil (5 mg) was subconjunctivally injected 10 times in the 2 weeks after surgery.<AC1> Fifteen eyes (88%) in the mitomycin group and seven (47%) in the fluorouracil group achieved an intraocular pressure of less than or equal to 20 mm Hg without antiglaucoma medication. </AC1>The follow-up period was 7 to 12 months.<AC2> Corneal complications were less common in the group given mitomycin than in that given fluorouracil (12% vs 53%). </AC2><AC3> The incidence of other complications was similar between the two groups. </AC3>', 'output': '{\"list_argument_relation_types\": [[2, 3, \"support\"]]}'}\n",
      "\n",
      "{'instruction': '### You are an expert in Argument Mining. You are given a biomedical abstract text which contains numbered argument components enclosed by <AC></AC> tags. Your task is to identify argument relations between argument components in the abstract text and classify their relation type as either \"support\" or \"attack\". You must return a list of triplets in the following JSON format: {\"list_argument_relation_types\": [[source AC (int), target AC (int), relation_type (str)], ..., [source AC (int), target AC (int), relation_type (str)]]} where each element \"relation_type (str)\" is replaced by either \"support\" or \"attack\".\\n', 'input': '### Here is the abstract text: \\n\\nThe Baerveldt glaucoma implant is a large equatorial aqueous shunting device that is installed through a single-quadrant conjunctival incision. The intermediate-term results of a randomized study comparing the 350- and 500-mm2 Baerveldt implants are reported.\\nSeventy-three patients with medically uncontrollable, nonneovascular glaucomas associated with aphakia, pseudophakia, or failed filters were enrolled in a randomized, prospective study comparing 350- and 500-mm2 Baerveldt implants. Surgical success was defined as 6 mmHg < or = final intraocular pressure < or = 21 mmHg without glaucoma reoperation or devastating complication.<AC1> Of patients with 350- and 500-mm2 implants, 93% and 88%, respectively, achieved surgical success (18-month life-table analysis, P = 0.93). </AC1><AC2> The 500-mm2 implants afforded intraocular pressure control with significantly fewer medications (0.7 versus 1.3; P = 0.006). </AC2><AC3> The postoperative visual acuities remained within one line of the preoperative visual acuities or improved in 62% and 66% of patients in the 350- and 500-mm2 groups, respectively (P = 0.93). </AC3><AC4> Complication rates were statistically similar. </AC4><AC5> The most frequent ones in the 350- and 500-mm2 groups, respectively, were serous choroidal effusion (16% and 32%), strabismus (16% and 19%), anterior uveitis (14% and 11%), and corneal or corneal graft edema (11% each). </AC5><AC6> The intermediate-term results of the 350- and 500-mm2 Baerveldt implants were statistically comparable with respect to surgical and visual outcomes, as well as complications </AC6><AC7> although the larger implant was associated with a higher rate of some complications. </AC7><AC8> the 500-mm2 Baerveldt implant afforded intraocular pressure control with fewer medications than the 350-mm2 implant. </AC8>', 'output': '{\"list_argument_relation_types\": [[1, 6, \"support\"], [2, 8, \"support\"], [3, 6, \"support\"], [4, 6, \"support\"], [5, 4, \"support\"], [7, 6, \"attack\"]]}'}\n",
      "\n"
     ]
    }
   ],
   "source": [
    "for i in range(3):\n",
    "    \n",
    "    print(data_file_test_gla[i])\n",
    "    print()"
   ]
  },
  {
   "cell_type": "code",
   "execution_count": 28,
   "id": "325c4e6c-6e7e-4b75-b132-a9f17e7731e9",
   "metadata": {},
   "outputs": [],
   "source": [
    "# Error!\n",
    "# Error corrected!"
   ]
  },
  {
   "cell_type": "markdown",
   "id": "85c4871d-6b82-446b-8e77-aa2c0536e944",
   "metadata": {},
   "source": [
    "### test file (mix)"
   ]
  },
  {
   "cell_type": "code",
   "execution_count": 29,
   "id": "1b505b09-320e-40e1-b664-260a14b4bc53",
   "metadata": {},
   "outputs": [],
   "source": [
    "data_file_test_mix = []\n",
    "\n",
    "for index, _ in mix_test_df.iterrows():    \n",
    "    i = index\n",
    "    \n",
    "    instruction = write_instruction()\n",
    "    question = build_input(mix_test_df.iloc[i].tagged_abstract_text)\n",
    "    answer = build_answer(mix_test_df.iloc[i].relations_list)\n",
    "    \n",
    "    data_file_test_mix.append( formatting_fct(instruction, question, answer) )"
   ]
  },
  {
   "cell_type": "code",
   "execution_count": 30,
   "id": "bb4068fe-58aa-4d0b-b00d-f870321c13a7",
   "metadata": {},
   "outputs": [
    {
     "data": {
      "text/plain": [
       "100"
      ]
     },
     "execution_count": 30,
     "metadata": {},
     "output_type": "execute_result"
    }
   ],
   "source": [
    "len(data_file_test_mix)"
   ]
  },
  {
   "cell_type": "code",
   "execution_count": 31,
   "id": "6c056716-5cd4-4cec-9639-9c6387f6227b",
   "metadata": {
    "scrolled": true
   },
   "outputs": [
    {
     "name": "stdout",
     "output_type": "stream",
     "text": [
      "{'instruction': '### You are an expert in Argument Mining. You are given a biomedical abstract text which contains numbered argument components enclosed by <AC></AC> tags. Your task is to identify argument relations between argument components in the abstract text and classify their relation type as either \"support\" or \"attack\". You must return a list of triplets in the following JSON format: {\"list_argument_relation_types\": [[source AC (int), target AC (int), relation_type (str)], ..., [source AC (int), target AC (int), relation_type (str)]]} where each element \"relation_type (str)\" is replaced by either \"support\" or \"attack\".\\n', 'input': '### Here is the abstract text:  To evaluate the efficacy and safety of a slow-release formulation of cytarabine (DepoCyt; Chiron Corp, Emeryville, CA, and Skye Pharma, Inc, San Diego, CA) that maintains cytotoxic concentrations of cytarabine (ara-C) in the CSF of most patients for more than 14 days. Twenty-eight patients with lymphoma and a positive CSF cytology were randomized to receive DepoCyt 50 mg once every 2 weeks or free ara-C 50 mg twice a week for 1 month. Patients whose CSF cytology converted to negative and who did not have neurologic progression received an additional 3 months of consolidation therapy and then 4 months of maintenance therapy. All patients received dexamethasone 4 mg orally bid on days 1 through 5 of each 2-week cycle.<AC1> The response rate was 71% for DepoCyt and 15% for ara-C on an intent-to-treat basis (P =.006). </AC1><AC2> All of the patients on the DepoCyt arm but only 53% of those on the ara-C arm were able to complete the planned 1-month induction therapy regimen. </AC2><AC3> Time to neurologic progression and survival trend in favor of DepoCyt (median, 78.5 v 42 days and 99.5 v 63 days, respectively; P >.05). </AC3><AC4> DepoCyt treatment was associated with an improved mean change in Karnofsky performance score at the end of induction (P =.041). </AC4><AC5> The major adverse events on both arms were headache and arachnoiditis, which were often caused by the underlying disease. </AC5><AC6> DepoCyt injected once every 2 weeks produced a high response rate and a better quality of life as measured by Karnofsky score relative to that produced by free ara-C injected twice a week. </AC6>', 'output': '{\"list_argument_relation_types\": [[1, 6, \"support\"], [4, 6, \"support\"]]}'}\n",
      "\n",
      "{'instruction': '### You are an expert in Argument Mining. You are given a biomedical abstract text which contains numbered argument components enclosed by <AC></AC> tags. Your task is to identify argument relations between argument components in the abstract text and classify their relation type as either \"support\" or \"attack\". You must return a list of triplets in the following JSON format: {\"list_argument_relation_types\": [[source AC (int), target AC (int), relation_type (str)], ..., [source AC (int), target AC (int), relation_type (str)]]} where each element \"relation_type (str)\" is replaced by either \"support\" or \"attack\".\\n', 'input': '### Here is the abstract text: <AC1> For several decades, both preoperative intra-arterial chemotherapy and preoperative irradiation have been accepted treatments for patients with tumors of the head and neck. </AC1>Unfortunately, arguments have often been put forward in favor of one or other of the two methods, but without the performance of an objective, randomized investigation. To resolve this situation, the authors have carried out a multicenter, randomized prospective study of selected patients with a view to deciding which method affords better results in complex tumor therapy from the aspects of survival and postoperative quality of life. One hundred thirty-one patients with operable sublingual or lingual squamous cell carcinoma in stages T2NXM0 to T4MXM0 were randomized into 2 groups: 1 group participated in preoperative chemotherapy with cisplatin and epirubicin (total doses: 200 mg cisplatin, 120 mg epirubicin) via the external carotid artery, whereas the other group received preoperative radiation therapy (46 grays). Following subsequent radical surgery, the patients received regular follow-up for 5 years. By the end of the 5 years, 95 of the 131 patients had conformed to the protocol. Of those 95, 47 had received preoperative chemotherapy and 48 preoperative irradiation.<AC2> After 5 years, 18 of the 47 patients who received chemotherapy and 15 of the 48 patients who received irradiation were still alive and tumor free. </AC2><AC3> A few more patients had died of recurrence or regional metastasis in the chemotherapy group (23 patients) than in the irradiation group (20 patients). </AC3><AC4> Occurrence of a second carcinoma was 3 times as frequent in the irradiation group (9 patients) as in the chemotherapy group (3 patients). </AC4>Overall,<AC5> the survival rates were by-and-large the same for the two groups. </AC5><AC6> Regarding postoperative quality of life, the chemotherapy group presented a more favorable picture. </AC6><AC7> The long term survival results subsequent to preoperative intra-arterial chemotherapy or preoperative radiotherapy were practically the same. </AC7><AC8> Regarding postoperative quality of life, patients who underwent intra-arterial chemotherapy appeared to be in a slightly more favorable situation. </AC8>The authors consider it important to stress these findings, as they are not aware of a similar randomized study of patients with tumors of the oral cavity.', 'output': '{\"list_argument_relation_types\": [[2, 5, \"support\"], [3, 5, \"support\"], [5, 7, \"support\"], [6, 8, \"support\"]]}'}\n",
      "\n",
      "{'instruction': '### You are an expert in Argument Mining. You are given a biomedical abstract text which contains numbered argument components enclosed by <AC></AC> tags. Your task is to identify argument relations between argument components in the abstract text and classify their relation type as either \"support\" or \"attack\". You must return a list of triplets in the following JSON format: {\"list_argument_relation_types\": [[source AC (int), target AC (int), relation_type (str)], ..., [source AC (int), target AC (int), relation_type (str)]]} where each element \"relation_type (str)\" is replaced by either \"support\" or \"attack\".\\n', 'input': \"### Here is the abstract text:  To determine the safety and efficacy of oral bexarotene (Targretin capsules; Ligand Pharmaceuticals Incorporated, San Diego, Calif). The effects of 2 randomized doses of 6.5 mg/m(2) per day (with crossover for progression) vs 650 mg/m(2) per day (later modified to 300 mg/m(2) per day) were evaluated in an open-label, multicenter, phase 2 and 3 study conducted between February 1997 and November 1998. Eighteen international cutaneous T-cell lymphoma clinics at academic referral centers. Fifty-eight patients with biopsy-proven stage IA through IIA cutaneous T-cell lymphoma that was refractory to (or patients were intolerant of) treatment or had reached at least a 6-month response plateau under at least 2 forms of prior therapy (median of 3.5 prior therapies). Bexarotene (Targretin capsules) administered once daily with meal for 16 weeks or longer. Primary end point classification of overall response rate of complete and partial remissions determined by either the Physician's Global Assessment of Clinical Condition or the objective Composite Assessment of Index Lesion Severity. Body surface area, time to response, duration of disease control, time to disease progression, individual index lesion signs and symptoms, and quality of life parameters were secondary outcomes.<AC1> Responses (> or = 50% improvement) were seen in 3 (20%) of 15 patients with an initial dose at 6.5 mg/m(2) per day (95% confidence interval [CI], 0%-40%), 15 (54%) of 28 patients at 300 mg/m(2) per day (95% CI, 35%-72%), and 10 (67%) of 15 patients at above 300 mg/m(2) per day (95% CI, 43%-91%). </AC1><AC2> The rate of progressive disease was 47%, 21%, and 13% at the same dose levels, respectively. </AC2><AC3> Eight (73%) of 11 patients crossing over from 6.5 mg/m(2) per day to higher doses subsequently responded. </AC3><AC4> The median duration of response from start of therapy could not be estimated for the 15 patients at 300 mg/m(2) per day owing to low relapse rates in 2 patients (13%); at higher doses it was 516 days. </AC4><AC5> The following drug-related adverse effects were reversible and treatable: hypertriglyceridemia (46 patients [79%]), hypercholesterolemia (28 patients [48%]), headache (27 patients [47%]), central hypothyroidism (23 patients [40%]), asthenia (21 patients [36%]), and leukopenia (16 patients [28%]). </AC5><AC6> No cases of drug-related neutropenic fever, sepsis, or death occurred. </AC6><AC7> Pancreatitis occurred in 3 patients with triglyceride levels higher than 14.69 mmol/L (1300 mg/dL), all of whom were taking 300 mg/m(2) or more of oral bexarotene per day. </AC7><AC8> Bexarotene (Targretin capsules) (the first retinoid X receptor-selective rexinoid) was well tolerated and effective as an oral treatment for 15 (54%) of 28 patients with refractory or persistent early-stage cutaneous T-cell lymphoma at doses of 300 mg/m(2) per day. </AC8><AC9> Hypertriglyceridemia and hypothyroidism require monitoring but are reversible and manageable with concomitant medication. </AC9>\", 'output': '{\"list_argument_relation_types\": [[1, 8, \"support\"], [2, 8, \"support\"], [3, 8, \"support\"], [5, 9, \"support\"], [6, 8, \"support\"], [7, 9, \"support\"]]}'}\n",
      "\n"
     ]
    }
   ],
   "source": [
    "for i in range(3):\n",
    "    \n",
    "    print(data_file_test_mix[i])\n",
    "    print()"
   ]
  },
  {
   "cell_type": "code",
   "execution_count": 32,
   "id": "6cecfd14-caa4-4289-b7ea-773e28bcf108",
   "metadata": {},
   "outputs": [],
   "source": [
    "# Error!\n",
    "# Error corrected!"
   ]
  },
  {
   "cell_type": "markdown",
   "id": "13a8dad5-0a92-4460-a027-64e9d6ffba6a",
   "metadata": {},
   "source": [
    "## Save `jsonl` files"
   ]
  },
  {
   "cell_type": "code",
   "execution_count": 33,
   "id": "828863ac-a9f2-497a-8a1f-92b7685d1a48",
   "metadata": {
    "tags": []
   },
   "outputs": [],
   "source": [
    "file_path = os.path.join(os.getcwd(), \"../datasets/abstRCT_aric_train_neo.json\")\n",
    "\n",
    "with open(file_path, 'w') as file:\n",
    "    \n",
    "    json.dump(data_file_train, file)"
   ]
  },
  {
   "cell_type": "code",
   "execution_count": 34,
   "id": "7c0ed1c8-af63-42e5-831b-7a4b501241f7",
   "metadata": {
    "tags": []
   },
   "outputs": [],
   "source": [
    "file_path = os.path.join(os.getcwd(), \"../datasets/abstRCT_aric_test_neo.json\")\n",
    "\n",
    "with open(file_path, 'w') as file:\n",
    "    \n",
    "    json.dump(data_file_test_neo, file)"
   ]
  },
  {
   "cell_type": "code",
   "execution_count": 35,
   "id": "b6234952-fc1f-4f58-9a0a-25131e430049",
   "metadata": {
    "tags": []
   },
   "outputs": [],
   "source": [
    "file_path = os.path.join(os.getcwd(), \"../datasets/abstRCT_aric_test_gla.json\")\n",
    "\n",
    "with open(file_path, 'w') as file:\n",
    "    \n",
    "    json.dump(data_file_test_gla, file)"
   ]
  },
  {
   "cell_type": "code",
   "execution_count": 36,
   "id": "5b947b2f-2989-4d1b-a07d-87ff80aa8cb7",
   "metadata": {},
   "outputs": [],
   "source": [
    "file_path = os.path.join(os.getcwd(), \"../datasets/abstRCT_aric_test_mix.json\")\n",
    "\n",
    "with open(file_path, 'w') as file:\n",
    "    \n",
    "    json.dump(data_file_test_mix, file)"
   ]
  },
  {
   "cell_type": "code",
   "execution_count": null,
   "id": "70bf0fc1-0b75-4cdc-9d9c-4b4636c9e032",
   "metadata": {},
   "outputs": [],
   "source": []
  }
 ],
 "metadata": {
  "kernelspec": {
   "display_name": "Python 3 (ipykernel)",
   "language": "python",
   "name": "python3"
  },
  "language_info": {
   "codemirror_mode": {
    "name": "ipython",
    "version": 3
   },
   "file_extension": ".py",
   "mimetype": "text/x-python",
   "name": "python",
   "nbconvert_exporter": "python",
   "pygments_lexer": "ipython3",
   "version": "3.11.9"
  }
 },
 "nbformat": 4,
 "nbformat_minor": 5
}

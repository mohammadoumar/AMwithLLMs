{
 "cells": [
  {
   "cell_type": "markdown",
   "id": "9b092f16-851d-4a47-ae4f-2a85603d6c77",
   "metadata": {},
   "source": [
    "# Prepare dataset (jsonl file)"
   ]
  },
  {
   "cell_type": "markdown",
   "id": "8798ef15",
   "metadata": {},
   "source": [
    "- Prepare PE datasets for llama factory.\n",
    "\n",
    "- Argument Type Classification (essay wise), with/without paragraph tags\n",
    "\n",
    "- We create the data files: `PE_ATC_train.json`, `PE_ATC_test.json`"
   ]
  },
  {
   "cell_type": "markdown",
   "id": "afdfbf4b-663f-41af-85a1-266a48239c9e",
   "metadata": {},
   "source": [
    "## Libraries"
   ]
  },
  {
   "cell_type": "code",
   "execution_count": 159,
   "id": "872238e4-5235-4176-bd84-4cc384bca8d4",
   "metadata": {
    "tags": []
   },
   "outputs": [],
   "source": [
    "import os\n",
    "import ast\n",
    "import json\n",
    "import random\n",
    "import pickle\n",
    "import pandas as pd"
   ]
  },
  {
   "cell_type": "code",
   "execution_count": 160,
   "id": "738bf52f-6876-40e0-b3cf-57026242db4a",
   "metadata": {
    "tags": []
   },
   "outputs": [],
   "source": [
    "random.seed(42)"
   ]
  },
  {
   "cell_type": "markdown",
   "id": "7af75678-bbcc-4cfa-9b81-c9a66d170182",
   "metadata": {},
   "source": [
    "## Load Data"
   ]
  },
  {
   "cell_type": "code",
   "execution_count": 161,
   "id": "0da5ee17-0803-41cc-91c9-1cec32f672d4",
   "metadata": {
    "tags": []
   },
   "outputs": [],
   "source": [
    "data_dir = os.path.join(os.getcwd(), \"datasets\")"
   ]
  },
  {
   "cell_type": "code",
   "execution_count": 162,
   "id": "54f71f0d-b9eb-499d-b9a4-fd010bc6d874",
   "metadata": {
    "tags": []
   },
   "outputs": [],
   "source": [
    "pe_df = pd.read_csv(os.path.join(data_dir, \"PE_data.csv\"))"
   ]
  },
  {
   "cell_type": "code",
   "execution_count": 163,
   "id": "7931292a-fd5c-4f8e-a9e8-24b5f5a16d4b",
   "metadata": {
    "tags": []
   },
   "outputs": [],
   "source": [
    "# pe_df.isna().sum()"
   ]
  },
  {
   "cell_type": "code",
   "execution_count": 164,
   "id": "6718a38d-9608-475c-9584-0976b928ea30",
   "metadata": {
    "tags": []
   },
   "outputs": [],
   "source": [
    "# pe_df"
   ]
  },
  {
   "cell_type": "markdown",
   "id": "135d6f22-441c-45dd-a453-741496b4dbef",
   "metadata": {
    "tags": []
   },
   "source": [
    "### Load train-test-split CSV "
   ]
  },
  {
   "cell_type": "code",
   "execution_count": 165,
   "id": "12d532d9-a611-45c1-8c31-81af94d4e5bc",
   "metadata": {
    "tags": []
   },
   "outputs": [],
   "source": [
    "df_split = pd.read_csv(\"datasets/train-test-split.csv\", sep=\";\")"
   ]
  },
  {
   "cell_type": "code",
   "execution_count": 166,
   "id": "a90f8367-50c5-4580-b2f7-e9ffa71b5cf9",
   "metadata": {
    "tags": []
   },
   "outputs": [],
   "source": [
    "# df_split"
   ]
  },
  {
   "cell_type": "code",
   "execution_count": 167,
   "id": "3d032851-ca72-46eb-b2e6-17575519512e",
   "metadata": {
    "tags": []
   },
   "outputs": [],
   "source": [
    "pe_df['split'] = pe_df['essay_id'].map(df_split['SET'])"
   ]
  },
  {
   "cell_type": "code",
   "execution_count": 168,
   "id": "7396ee97-9e99-4ed7-9366-a332f1fb2dbd",
   "metadata": {
    "tags": []
   },
   "outputs": [],
   "source": [
    "# pe_df"
   ]
  },
  {
   "cell_type": "code",
   "execution_count": 169,
   "id": "8213da70-a6dd-4fce-9b52-ed2381f9064b",
   "metadata": {
    "tags": []
   },
   "outputs": [],
   "source": [
    "def get_ac_count(x):\n",
    "\n",
    "    return len(ast.literal_eval(x.AC_types))"
   ]
  },
  {
   "cell_type": "code",
   "execution_count": 170,
   "id": "4be6b766-a09f-4d3a-b357-1aeafe3789a6",
   "metadata": {
    "tags": []
   },
   "outputs": [],
   "source": [
    "pe_df[\"AC_count\"] = pe_df.apply(lambda x: get_ac_count(x), axis=1)"
   ]
  },
  {
   "cell_type": "code",
   "execution_count": 171,
   "id": "019b0b8b-98e5-4f3b-ac90-a56450167293",
   "metadata": {
    "tags": []
   },
   "outputs": [],
   "source": [
    "# pe_df"
   ]
  },
  {
   "cell_type": "code",
   "execution_count": 172,
   "id": "09719142-9932-494b-9310-a304dfd22590",
   "metadata": {
    "tags": []
   },
   "outputs": [
    {
     "data": {
      "text/plain": [
       "split\n",
       "TRAIN    1796\n",
       "TEST      439\n",
       "Name: count, dtype: int64"
      ]
     },
     "execution_count": 172,
     "metadata": {},
     "output_type": "execute_result"
    }
   ],
   "source": [
    "pe_df.split.value_counts()"
   ]
  },
  {
   "cell_type": "code",
   "execution_count": 173,
   "id": "1aefb46f-baa9-452a-a8ba-c7bb1ec61cb7",
   "metadata": {},
   "outputs": [
    {
     "data": {
      "text/html": [
       "<div>\n",
       "<style scoped>\n",
       "    .dataframe tbody tr th:only-of-type {\n",
       "        vertical-align: middle;\n",
       "    }\n",
       "\n",
       "    .dataframe tbody tr th {\n",
       "        vertical-align: top;\n",
       "    }\n",
       "\n",
       "    .dataframe thead th {\n",
       "        text-align: right;\n",
       "    }\n",
       "</style>\n",
       "<table border=\"1\" class=\"dataframe\">\n",
       "  <thead>\n",
       "    <tr style=\"text-align: right;\">\n",
       "      <th></th>\n",
       "      <th>essay_id</th>\n",
       "      <th>para_id</th>\n",
       "      <th>para_types</th>\n",
       "      <th>para_text</th>\n",
       "      <th>adu_spans</th>\n",
       "      <th>ac_spans</th>\n",
       "      <th>ai_spans</th>\n",
       "      <th>AC_types</th>\n",
       "      <th>AR_pairs</th>\n",
       "      <th>AR_types</th>\n",
       "      <th>split</th>\n",
       "      <th>AC_count</th>\n",
       "    </tr>\n",
       "  </thead>\n",
       "  <tbody>\n",
       "    <tr>\n",
       "      <th>0</th>\n",
       "      <td>0</td>\n",
       "      <td>0</td>\n",
       "      <td>prompt</td>\n",
       "      <td>&lt;prompt&gt; Should students be taught to compete ...</td>\n",
       "      <td>[]</td>\n",
       "      <td>[]</td>\n",
       "      <td>[]</td>\n",
       "      <td>[]</td>\n",
       "      <td>[]</td>\n",
       "      <td>[]</td>\n",
       "      <td>TRAIN</td>\n",
       "      <td>0</td>\n",
       "    </tr>\n",
       "    <tr>\n",
       "      <th>1</th>\n",
       "      <td>0</td>\n",
       "      <td>1</td>\n",
       "      <td>intro</td>\n",
       "      <td>&lt;para-intro&gt; It is always said that competitio...</td>\n",
       "      <td>[(76, 97)]</td>\n",
       "      <td>[(86, 97)]</td>\n",
       "      <td>[(76, 85)]</td>\n",
       "      <td>['MajorClaim']</td>\n",
       "      <td>[]</td>\n",
       "      <td>[]</td>\n",
       "      <td>TRAIN</td>\n",
       "      <td>1</td>\n",
       "    </tr>\n",
       "    <tr>\n",
       "      <th>2</th>\n",
       "      <td>0</td>\n",
       "      <td>2</td>\n",
       "      <td>body</td>\n",
       "      <td>&lt;para-body&gt; First of all , &lt;AC&gt; through cooper...</td>\n",
       "      <td>[(1, 25), (26, 55), (56, 99), (100, 123)]</td>\n",
       "      <td>[(5, 25), (27, 55), (57, 99), (101, 123)]</td>\n",
       "      <td>[(1, 4), (26, 26), (56, 56), (100, 100)]</td>\n",
       "      <td>['Claim', 'Premise', 'Premise', 'Premise']</td>\n",
       "      <td>[(0, 1), (0, 2), (0, 3)]</td>\n",
       "      <td>['Support', 'Support', 'Support']</td>\n",
       "      <td>TRAIN</td>\n",
       "      <td>4</td>\n",
       "    </tr>\n",
       "    <tr>\n",
       "      <th>3</th>\n",
       "      <td>0</td>\n",
       "      <td>3</td>\n",
       "      <td>body</td>\n",
       "      <td>&lt;para-body&gt; On the other hand , &lt;AC&gt; the signi...</td>\n",
       "      <td>[(1, 22), (24, 37), (39, 63), (76, 139), (155,...</td>\n",
       "      <td>[(6, 22), (30, 37), (41, 63), (77, 139), (156,...</td>\n",
       "      <td>[(1, 5), (24, 29), (39, 40), (76, 76), (155, 1...</td>\n",
       "      <td>['Premise', 'Claim', 'Premise', 'Premise', 'Cl...</td>\n",
       "      <td>[(1, 0), (4, 2), (4, 3)]</td>\n",
       "      <td>['Support', 'Support', 'Support']</td>\n",
       "      <td>TRAIN</td>\n",
       "      <td>5</td>\n",
       "    </tr>\n",
       "    <tr>\n",
       "      <th>4</th>\n",
       "      <td>0</td>\n",
       "      <td>4</td>\n",
       "      <td>conclusion</td>\n",
       "      <td>&lt;para-conclusion&gt; Consequently , no matter fro...</td>\n",
       "      <td>[(1, 40)]</td>\n",
       "      <td>[(25, 40)]</td>\n",
       "      <td>[(1, 24)]</td>\n",
       "      <td>['MajorClaim']</td>\n",
       "      <td>[]</td>\n",
       "      <td>[]</td>\n",
       "      <td>TRAIN</td>\n",
       "      <td>1</td>\n",
       "    </tr>\n",
       "    <tr>\n",
       "      <th>...</th>\n",
       "      <td>...</td>\n",
       "      <td>...</td>\n",
       "      <td>...</td>\n",
       "      <td>...</td>\n",
       "      <td>...</td>\n",
       "      <td>...</td>\n",
       "      <td>...</td>\n",
       "      <td>...</td>\n",
       "      <td>...</td>\n",
       "      <td>...</td>\n",
       "      <td>...</td>\n",
       "      <td>...</td>\n",
       "    </tr>\n",
       "    <tr>\n",
       "      <th>2230</th>\n",
       "      <td>401</td>\n",
       "      <td>2230</td>\n",
       "      <td>prompt</td>\n",
       "      <td>&lt;prompt&gt; A greater proportion of the budget sh...</td>\n",
       "      <td>[]</td>\n",
       "      <td>[]</td>\n",
       "      <td>[]</td>\n",
       "      <td>[]</td>\n",
       "      <td>[]</td>\n",
       "      <td>[]</td>\n",
       "      <td>TRAIN</td>\n",
       "      <td>0</td>\n",
       "    </tr>\n",
       "    <tr>\n",
       "      <th>2231</th>\n",
       "      <td>401</td>\n",
       "      <td>2231</td>\n",
       "      <td>intro</td>\n",
       "      <td>&lt;para-intro&gt; In today ' s world , the concept ...</td>\n",
       "      <td>[(26, 51)]</td>\n",
       "      <td>[(33, 51)]</td>\n",
       "      <td>[(26, 32)]</td>\n",
       "      <td>['MajorClaim']</td>\n",
       "      <td>[]</td>\n",
       "      <td>[]</td>\n",
       "      <td>TRAIN</td>\n",
       "      <td>1</td>\n",
       "    </tr>\n",
       "    <tr>\n",
       "      <th>2232</th>\n",
       "      <td>401</td>\n",
       "      <td>2232</td>\n",
       "      <td>body</td>\n",
       "      <td>&lt;para-body&gt; &lt;AC&gt; The first reason why educatio...</td>\n",
       "      <td>[(0, 22), (24, 56), (58, 71), (72, 98)]</td>\n",
       "      <td>[(1, 22), (27, 56), (60, 71), (74, 98)]</td>\n",
       "      <td>[(0, 0), (24, 26), (58, 59), (72, 73)]</td>\n",
       "      <td>['Premise', 'Premise', 'Claim', 'Premise']</td>\n",
       "      <td>[(2, 0), (2, 1), (2, 3)]</td>\n",
       "      <td>['Support', 'Support', 'Support']</td>\n",
       "      <td>TRAIN</td>\n",
       "      <td>4</td>\n",
       "    </tr>\n",
       "    <tr>\n",
       "      <th>2233</th>\n",
       "      <td>401</td>\n",
       "      <td>2233</td>\n",
       "      <td>body</td>\n",
       "      <td>&lt;para-body&gt; The second reason why &lt;AC&gt; governm...</td>\n",
       "      <td>[(1, 25), (27, 53), (55, 88), (90, 128)]</td>\n",
       "      <td>[(5, 25), (31, 53), (57, 88), (93, 128)]</td>\n",
       "      <td>[(1, 4), (27, 30), (55, 56), (90, 92)]</td>\n",
       "      <td>['Claim', 'Premise', 'Premise', 'Premise']</td>\n",
       "      <td>[(2, 1), (0, 2), (2, 3)]</td>\n",
       "      <td>['Support', 'Support', 'Support']</td>\n",
       "      <td>TRAIN</td>\n",
       "      <td>4</td>\n",
       "    </tr>\n",
       "    <tr>\n",
       "      <th>2234</th>\n",
       "      <td>401</td>\n",
       "      <td>2234</td>\n",
       "      <td>conclusion</td>\n",
       "      <td>&lt;para-conclusion&gt; In conclusion , &lt;AC&gt; a great...</td>\n",
       "      <td>[(1, 37)]</td>\n",
       "      <td>[(4, 37)]</td>\n",
       "      <td>[(1, 3)]</td>\n",
       "      <td>['MajorClaim']</td>\n",
       "      <td>[]</td>\n",
       "      <td>[]</td>\n",
       "      <td>TRAIN</td>\n",
       "      <td>1</td>\n",
       "    </tr>\n",
       "  </tbody>\n",
       "</table>\n",
       "<p>2235 rows × 12 columns</p>\n",
       "</div>"
      ],
      "text/plain": [
       "      essay_id  para_id  para_types  \\\n",
       "0            0        0      prompt   \n",
       "1            0        1       intro   \n",
       "2            0        2        body   \n",
       "3            0        3        body   \n",
       "4            0        4  conclusion   \n",
       "...        ...      ...         ...   \n",
       "2230       401     2230      prompt   \n",
       "2231       401     2231       intro   \n",
       "2232       401     2232        body   \n",
       "2233       401     2233        body   \n",
       "2234       401     2234  conclusion   \n",
       "\n",
       "                                              para_text  \\\n",
       "0     <prompt> Should students be taught to compete ...   \n",
       "1     <para-intro> It is always said that competitio...   \n",
       "2     <para-body> First of all , <AC> through cooper...   \n",
       "3     <para-body> On the other hand , <AC> the signi...   \n",
       "4     <para-conclusion> Consequently , no matter fro...   \n",
       "...                                                 ...   \n",
       "2230  <prompt> A greater proportion of the budget sh...   \n",
       "2231  <para-intro> In today ' s world , the concept ...   \n",
       "2232  <para-body> <AC> The first reason why educatio...   \n",
       "2233  <para-body> The second reason why <AC> governm...   \n",
       "2234  <para-conclusion> In conclusion , <AC> a great...   \n",
       "\n",
       "                                              adu_spans  \\\n",
       "0                                                    []   \n",
       "1                                            [(76, 97)]   \n",
       "2             [(1, 25), (26, 55), (56, 99), (100, 123)]   \n",
       "3     [(1, 22), (24, 37), (39, 63), (76, 139), (155,...   \n",
       "4                                             [(1, 40)]   \n",
       "...                                                 ...   \n",
       "2230                                                 []   \n",
       "2231                                         [(26, 51)]   \n",
       "2232            [(0, 22), (24, 56), (58, 71), (72, 98)]   \n",
       "2233           [(1, 25), (27, 53), (55, 88), (90, 128)]   \n",
       "2234                                          [(1, 37)]   \n",
       "\n",
       "                                               ac_spans  \\\n",
       "0                                                    []   \n",
       "1                                            [(86, 97)]   \n",
       "2             [(5, 25), (27, 55), (57, 99), (101, 123)]   \n",
       "3     [(6, 22), (30, 37), (41, 63), (77, 139), (156,...   \n",
       "4                                            [(25, 40)]   \n",
       "...                                                 ...   \n",
       "2230                                                 []   \n",
       "2231                                         [(33, 51)]   \n",
       "2232            [(1, 22), (27, 56), (60, 71), (74, 98)]   \n",
       "2233           [(5, 25), (31, 53), (57, 88), (93, 128)]   \n",
       "2234                                          [(4, 37)]   \n",
       "\n",
       "                                               ai_spans  \\\n",
       "0                                                    []   \n",
       "1                                            [(76, 85)]   \n",
       "2              [(1, 4), (26, 26), (56, 56), (100, 100)]   \n",
       "3     [(1, 5), (24, 29), (39, 40), (76, 76), (155, 1...   \n",
       "4                                             [(1, 24)]   \n",
       "...                                                 ...   \n",
       "2230                                                 []   \n",
       "2231                                         [(26, 32)]   \n",
       "2232             [(0, 0), (24, 26), (58, 59), (72, 73)]   \n",
       "2233             [(1, 4), (27, 30), (55, 56), (90, 92)]   \n",
       "2234                                           [(1, 3)]   \n",
       "\n",
       "                                               AC_types  \\\n",
       "0                                                    []   \n",
       "1                                        ['MajorClaim']   \n",
       "2            ['Claim', 'Premise', 'Premise', 'Premise']   \n",
       "3     ['Premise', 'Claim', 'Premise', 'Premise', 'Cl...   \n",
       "4                                        ['MajorClaim']   \n",
       "...                                                 ...   \n",
       "2230                                                 []   \n",
       "2231                                     ['MajorClaim']   \n",
       "2232         ['Premise', 'Premise', 'Claim', 'Premise']   \n",
       "2233         ['Claim', 'Premise', 'Premise', 'Premise']   \n",
       "2234                                     ['MajorClaim']   \n",
       "\n",
       "                      AR_pairs                           AR_types  split  \\\n",
       "0                           []                                 []  TRAIN   \n",
       "1                           []                                 []  TRAIN   \n",
       "2     [(0, 1), (0, 2), (0, 3)]  ['Support', 'Support', 'Support']  TRAIN   \n",
       "3     [(1, 0), (4, 2), (4, 3)]  ['Support', 'Support', 'Support']  TRAIN   \n",
       "4                           []                                 []  TRAIN   \n",
       "...                        ...                                ...    ...   \n",
       "2230                        []                                 []  TRAIN   \n",
       "2231                        []                                 []  TRAIN   \n",
       "2232  [(2, 0), (2, 1), (2, 3)]  ['Support', 'Support', 'Support']  TRAIN   \n",
       "2233  [(2, 1), (0, 2), (2, 3)]  ['Support', 'Support', 'Support']  TRAIN   \n",
       "2234                        []                                 []  TRAIN   \n",
       "\n",
       "      AC_count  \n",
       "0            0  \n",
       "1            1  \n",
       "2            4  \n",
       "3            5  \n",
       "4            1  \n",
       "...        ...  \n",
       "2230         0  \n",
       "2231         1  \n",
       "2232         4  \n",
       "2233         4  \n",
       "2234         1  \n",
       "\n",
       "[2235 rows x 12 columns]"
      ]
     },
     "execution_count": 173,
     "metadata": {},
     "output_type": "execute_result"
    }
   ],
   "source": [
    "pe_df"
   ]
  },
  {
   "cell_type": "code",
   "execution_count": 174,
   "id": "1da168d5-7a59-4954-bc95-1e5f116a9ed0",
   "metadata": {},
   "outputs": [],
   "source": [
    "def get_ar_pair_count(x):\n",
    "\n",
    "    return len(ast.literal_eval(x.AR_pairs))"
   ]
  },
  {
   "cell_type": "code",
   "execution_count": 175,
   "id": "aea8e76f-7a44-4681-b0ae-2af9efce1e07",
   "metadata": {},
   "outputs": [],
   "source": [
    "pe_df[\"AR_count\"] = pe_df.apply(lambda x: get_ar_pair_count(x), axis=1)"
   ]
  },
  {
   "cell_type": "code",
   "execution_count": 176,
   "id": "55a8bf0a-aad8-4d55-8e72-b0cba87a5b22",
   "metadata": {
    "tags": []
   },
   "outputs": [],
   "source": [
    "# Remove paragraphs with 0 ACs"
   ]
  },
  {
   "cell_type": "code",
   "execution_count": 177,
   "id": "b987324e-6687-4b7a-aee2-51e0e6da35ea",
   "metadata": {
    "tags": []
   },
   "outputs": [],
   "source": [
    "#pe_df = pe_df[pe_df.AC_count > 0].reset_index() "
   ]
  },
  {
   "cell_type": "code",
   "execution_count": 178,
   "id": "4ed75aef-fb0c-4905-b8c2-cf9288fed0ec",
   "metadata": {
    "tags": []
   },
   "outputs": [
    {
     "data": {
      "text/html": [
       "<div>\n",
       "<style scoped>\n",
       "    .dataframe tbody tr th:only-of-type {\n",
       "        vertical-align: middle;\n",
       "    }\n",
       "\n",
       "    .dataframe tbody tr th {\n",
       "        vertical-align: top;\n",
       "    }\n",
       "\n",
       "    .dataframe thead th {\n",
       "        text-align: right;\n",
       "    }\n",
       "</style>\n",
       "<table border=\"1\" class=\"dataframe\">\n",
       "  <thead>\n",
       "    <tr style=\"text-align: right;\">\n",
       "      <th></th>\n",
       "      <th>essay_id</th>\n",
       "      <th>para_id</th>\n",
       "      <th>para_types</th>\n",
       "      <th>para_text</th>\n",
       "      <th>adu_spans</th>\n",
       "      <th>ac_spans</th>\n",
       "      <th>ai_spans</th>\n",
       "      <th>AC_types</th>\n",
       "      <th>AR_pairs</th>\n",
       "      <th>AR_types</th>\n",
       "      <th>split</th>\n",
       "      <th>AC_count</th>\n",
       "      <th>AR_count</th>\n",
       "    </tr>\n",
       "  </thead>\n",
       "  <tbody>\n",
       "    <tr>\n",
       "      <th>0</th>\n",
       "      <td>0</td>\n",
       "      <td>0</td>\n",
       "      <td>prompt</td>\n",
       "      <td>&lt;prompt&gt; Should students be taught to compete ...</td>\n",
       "      <td>[]</td>\n",
       "      <td>[]</td>\n",
       "      <td>[]</td>\n",
       "      <td>[]</td>\n",
       "      <td>[]</td>\n",
       "      <td>[]</td>\n",
       "      <td>TRAIN</td>\n",
       "      <td>0</td>\n",
       "      <td>0</td>\n",
       "    </tr>\n",
       "    <tr>\n",
       "      <th>1</th>\n",
       "      <td>0</td>\n",
       "      <td>1</td>\n",
       "      <td>intro</td>\n",
       "      <td>&lt;para-intro&gt; It is always said that competitio...</td>\n",
       "      <td>[(76, 97)]</td>\n",
       "      <td>[(86, 97)]</td>\n",
       "      <td>[(76, 85)]</td>\n",
       "      <td>['MajorClaim']</td>\n",
       "      <td>[]</td>\n",
       "      <td>[]</td>\n",
       "      <td>TRAIN</td>\n",
       "      <td>1</td>\n",
       "      <td>0</td>\n",
       "    </tr>\n",
       "    <tr>\n",
       "      <th>2</th>\n",
       "      <td>0</td>\n",
       "      <td>2</td>\n",
       "      <td>body</td>\n",
       "      <td>&lt;para-body&gt; First of all , &lt;AC&gt; through cooper...</td>\n",
       "      <td>[(1, 25), (26, 55), (56, 99), (100, 123)]</td>\n",
       "      <td>[(5, 25), (27, 55), (57, 99), (101, 123)]</td>\n",
       "      <td>[(1, 4), (26, 26), (56, 56), (100, 100)]</td>\n",
       "      <td>['Claim', 'Premise', 'Premise', 'Premise']</td>\n",
       "      <td>[(0, 1), (0, 2), (0, 3)]</td>\n",
       "      <td>['Support', 'Support', 'Support']</td>\n",
       "      <td>TRAIN</td>\n",
       "      <td>4</td>\n",
       "      <td>3</td>\n",
       "    </tr>\n",
       "    <tr>\n",
       "      <th>3</th>\n",
       "      <td>0</td>\n",
       "      <td>3</td>\n",
       "      <td>body</td>\n",
       "      <td>&lt;para-body&gt; On the other hand , &lt;AC&gt; the signi...</td>\n",
       "      <td>[(1, 22), (24, 37), (39, 63), (76, 139), (155,...</td>\n",
       "      <td>[(6, 22), (30, 37), (41, 63), (77, 139), (156,...</td>\n",
       "      <td>[(1, 5), (24, 29), (39, 40), (76, 76), (155, 1...</td>\n",
       "      <td>['Premise', 'Claim', 'Premise', 'Premise', 'Cl...</td>\n",
       "      <td>[(1, 0), (4, 2), (4, 3)]</td>\n",
       "      <td>['Support', 'Support', 'Support']</td>\n",
       "      <td>TRAIN</td>\n",
       "      <td>5</td>\n",
       "      <td>3</td>\n",
       "    </tr>\n",
       "    <tr>\n",
       "      <th>4</th>\n",
       "      <td>0</td>\n",
       "      <td>4</td>\n",
       "      <td>conclusion</td>\n",
       "      <td>&lt;para-conclusion&gt; Consequently , no matter fro...</td>\n",
       "      <td>[(1, 40)]</td>\n",
       "      <td>[(25, 40)]</td>\n",
       "      <td>[(1, 24)]</td>\n",
       "      <td>['MajorClaim']</td>\n",
       "      <td>[]</td>\n",
       "      <td>[]</td>\n",
       "      <td>TRAIN</td>\n",
       "      <td>1</td>\n",
       "      <td>0</td>\n",
       "    </tr>\n",
       "    <tr>\n",
       "      <th>...</th>\n",
       "      <td>...</td>\n",
       "      <td>...</td>\n",
       "      <td>...</td>\n",
       "      <td>...</td>\n",
       "      <td>...</td>\n",
       "      <td>...</td>\n",
       "      <td>...</td>\n",
       "      <td>...</td>\n",
       "      <td>...</td>\n",
       "      <td>...</td>\n",
       "      <td>...</td>\n",
       "      <td>...</td>\n",
       "      <td>...</td>\n",
       "    </tr>\n",
       "    <tr>\n",
       "      <th>2230</th>\n",
       "      <td>401</td>\n",
       "      <td>2230</td>\n",
       "      <td>prompt</td>\n",
       "      <td>&lt;prompt&gt; A greater proportion of the budget sh...</td>\n",
       "      <td>[]</td>\n",
       "      <td>[]</td>\n",
       "      <td>[]</td>\n",
       "      <td>[]</td>\n",
       "      <td>[]</td>\n",
       "      <td>[]</td>\n",
       "      <td>TRAIN</td>\n",
       "      <td>0</td>\n",
       "      <td>0</td>\n",
       "    </tr>\n",
       "    <tr>\n",
       "      <th>2231</th>\n",
       "      <td>401</td>\n",
       "      <td>2231</td>\n",
       "      <td>intro</td>\n",
       "      <td>&lt;para-intro&gt; In today ' s world , the concept ...</td>\n",
       "      <td>[(26, 51)]</td>\n",
       "      <td>[(33, 51)]</td>\n",
       "      <td>[(26, 32)]</td>\n",
       "      <td>['MajorClaim']</td>\n",
       "      <td>[]</td>\n",
       "      <td>[]</td>\n",
       "      <td>TRAIN</td>\n",
       "      <td>1</td>\n",
       "      <td>0</td>\n",
       "    </tr>\n",
       "    <tr>\n",
       "      <th>2232</th>\n",
       "      <td>401</td>\n",
       "      <td>2232</td>\n",
       "      <td>body</td>\n",
       "      <td>&lt;para-body&gt; &lt;AC&gt; The first reason why educatio...</td>\n",
       "      <td>[(0, 22), (24, 56), (58, 71), (72, 98)]</td>\n",
       "      <td>[(1, 22), (27, 56), (60, 71), (74, 98)]</td>\n",
       "      <td>[(0, 0), (24, 26), (58, 59), (72, 73)]</td>\n",
       "      <td>['Premise', 'Premise', 'Claim', 'Premise']</td>\n",
       "      <td>[(2, 0), (2, 1), (2, 3)]</td>\n",
       "      <td>['Support', 'Support', 'Support']</td>\n",
       "      <td>TRAIN</td>\n",
       "      <td>4</td>\n",
       "      <td>3</td>\n",
       "    </tr>\n",
       "    <tr>\n",
       "      <th>2233</th>\n",
       "      <td>401</td>\n",
       "      <td>2233</td>\n",
       "      <td>body</td>\n",
       "      <td>&lt;para-body&gt; The second reason why &lt;AC&gt; governm...</td>\n",
       "      <td>[(1, 25), (27, 53), (55, 88), (90, 128)]</td>\n",
       "      <td>[(5, 25), (31, 53), (57, 88), (93, 128)]</td>\n",
       "      <td>[(1, 4), (27, 30), (55, 56), (90, 92)]</td>\n",
       "      <td>['Claim', 'Premise', 'Premise', 'Premise']</td>\n",
       "      <td>[(2, 1), (0, 2), (2, 3)]</td>\n",
       "      <td>['Support', 'Support', 'Support']</td>\n",
       "      <td>TRAIN</td>\n",
       "      <td>4</td>\n",
       "      <td>3</td>\n",
       "    </tr>\n",
       "    <tr>\n",
       "      <th>2234</th>\n",
       "      <td>401</td>\n",
       "      <td>2234</td>\n",
       "      <td>conclusion</td>\n",
       "      <td>&lt;para-conclusion&gt; In conclusion , &lt;AC&gt; a great...</td>\n",
       "      <td>[(1, 37)]</td>\n",
       "      <td>[(4, 37)]</td>\n",
       "      <td>[(1, 3)]</td>\n",
       "      <td>['MajorClaim']</td>\n",
       "      <td>[]</td>\n",
       "      <td>[]</td>\n",
       "      <td>TRAIN</td>\n",
       "      <td>1</td>\n",
       "      <td>0</td>\n",
       "    </tr>\n",
       "  </tbody>\n",
       "</table>\n",
       "<p>2235 rows × 13 columns</p>\n",
       "</div>"
      ],
      "text/plain": [
       "      essay_id  para_id  para_types  \\\n",
       "0            0        0      prompt   \n",
       "1            0        1       intro   \n",
       "2            0        2        body   \n",
       "3            0        3        body   \n",
       "4            0        4  conclusion   \n",
       "...        ...      ...         ...   \n",
       "2230       401     2230      prompt   \n",
       "2231       401     2231       intro   \n",
       "2232       401     2232        body   \n",
       "2233       401     2233        body   \n",
       "2234       401     2234  conclusion   \n",
       "\n",
       "                                              para_text  \\\n",
       "0     <prompt> Should students be taught to compete ...   \n",
       "1     <para-intro> It is always said that competitio...   \n",
       "2     <para-body> First of all , <AC> through cooper...   \n",
       "3     <para-body> On the other hand , <AC> the signi...   \n",
       "4     <para-conclusion> Consequently , no matter fro...   \n",
       "...                                                 ...   \n",
       "2230  <prompt> A greater proportion of the budget sh...   \n",
       "2231  <para-intro> In today ' s world , the concept ...   \n",
       "2232  <para-body> <AC> The first reason why educatio...   \n",
       "2233  <para-body> The second reason why <AC> governm...   \n",
       "2234  <para-conclusion> In conclusion , <AC> a great...   \n",
       "\n",
       "                                              adu_spans  \\\n",
       "0                                                    []   \n",
       "1                                            [(76, 97)]   \n",
       "2             [(1, 25), (26, 55), (56, 99), (100, 123)]   \n",
       "3     [(1, 22), (24, 37), (39, 63), (76, 139), (155,...   \n",
       "4                                             [(1, 40)]   \n",
       "...                                                 ...   \n",
       "2230                                                 []   \n",
       "2231                                         [(26, 51)]   \n",
       "2232            [(0, 22), (24, 56), (58, 71), (72, 98)]   \n",
       "2233           [(1, 25), (27, 53), (55, 88), (90, 128)]   \n",
       "2234                                          [(1, 37)]   \n",
       "\n",
       "                                               ac_spans  \\\n",
       "0                                                    []   \n",
       "1                                            [(86, 97)]   \n",
       "2             [(5, 25), (27, 55), (57, 99), (101, 123)]   \n",
       "3     [(6, 22), (30, 37), (41, 63), (77, 139), (156,...   \n",
       "4                                            [(25, 40)]   \n",
       "...                                                 ...   \n",
       "2230                                                 []   \n",
       "2231                                         [(33, 51)]   \n",
       "2232            [(1, 22), (27, 56), (60, 71), (74, 98)]   \n",
       "2233           [(5, 25), (31, 53), (57, 88), (93, 128)]   \n",
       "2234                                          [(4, 37)]   \n",
       "\n",
       "                                               ai_spans  \\\n",
       "0                                                    []   \n",
       "1                                            [(76, 85)]   \n",
       "2              [(1, 4), (26, 26), (56, 56), (100, 100)]   \n",
       "3     [(1, 5), (24, 29), (39, 40), (76, 76), (155, 1...   \n",
       "4                                             [(1, 24)]   \n",
       "...                                                 ...   \n",
       "2230                                                 []   \n",
       "2231                                         [(26, 32)]   \n",
       "2232             [(0, 0), (24, 26), (58, 59), (72, 73)]   \n",
       "2233             [(1, 4), (27, 30), (55, 56), (90, 92)]   \n",
       "2234                                           [(1, 3)]   \n",
       "\n",
       "                                               AC_types  \\\n",
       "0                                                    []   \n",
       "1                                        ['MajorClaim']   \n",
       "2            ['Claim', 'Premise', 'Premise', 'Premise']   \n",
       "3     ['Premise', 'Claim', 'Premise', 'Premise', 'Cl...   \n",
       "4                                        ['MajorClaim']   \n",
       "...                                                 ...   \n",
       "2230                                                 []   \n",
       "2231                                     ['MajorClaim']   \n",
       "2232         ['Premise', 'Premise', 'Claim', 'Premise']   \n",
       "2233         ['Claim', 'Premise', 'Premise', 'Premise']   \n",
       "2234                                     ['MajorClaim']   \n",
       "\n",
       "                      AR_pairs                           AR_types  split  \\\n",
       "0                           []                                 []  TRAIN   \n",
       "1                           []                                 []  TRAIN   \n",
       "2     [(0, 1), (0, 2), (0, 3)]  ['Support', 'Support', 'Support']  TRAIN   \n",
       "3     [(1, 0), (4, 2), (4, 3)]  ['Support', 'Support', 'Support']  TRAIN   \n",
       "4                           []                                 []  TRAIN   \n",
       "...                        ...                                ...    ...   \n",
       "2230                        []                                 []  TRAIN   \n",
       "2231                        []                                 []  TRAIN   \n",
       "2232  [(2, 0), (2, 1), (2, 3)]  ['Support', 'Support', 'Support']  TRAIN   \n",
       "2233  [(2, 1), (0, 2), (2, 3)]  ['Support', 'Support', 'Support']  TRAIN   \n",
       "2234                        []                                 []  TRAIN   \n",
       "\n",
       "      AC_count  AR_count  \n",
       "0            0         0  \n",
       "1            1         0  \n",
       "2            4         3  \n",
       "3            5         3  \n",
       "4            1         0  \n",
       "...        ...       ...  \n",
       "2230         0         0  \n",
       "2231         1         0  \n",
       "2232         4         3  \n",
       "2233         4         3  \n",
       "2234         1         0  \n",
       "\n",
       "[2235 rows x 13 columns]"
      ]
     },
     "execution_count": 178,
     "metadata": {},
     "output_type": "execute_result"
    }
   ],
   "source": [
    "pe_df"
   ]
  },
  {
   "cell_type": "code",
   "execution_count": 179,
   "id": "3e06a175-4f49-4a4d-881c-95a6b1bda7b2",
   "metadata": {
    "tags": []
   },
   "outputs": [
    {
     "data": {
      "text/plain": [
       "split\n",
       "TRAIN    1796\n",
       "TEST      439\n",
       "Name: count, dtype: int64"
      ]
     },
     "execution_count": 179,
     "metadata": {},
     "output_type": "execute_result"
    }
   ],
   "source": [
    "pe_df.split.value_counts()"
   ]
  },
  {
   "cell_type": "code",
   "execution_count": 180,
   "id": "2f37888a-e7e3-49c4-a2bb-d983f6850008",
   "metadata": {},
   "outputs": [],
   "source": [
    "essays_df=pe_df.groupby([\"essay_id\", \"split\"]).agg({\"para_text\": \"\".join, \"AC_types\": \"\".join})#.iloc[0][\"AC_types\"]"
   ]
  },
  {
   "cell_type": "code",
   "execution_count": 181,
   "id": "f871e25d-276e-48bf-89ea-a30af9cc480b",
   "metadata": {},
   "outputs": [
    {
     "data": {
      "text/html": [
       "<div>\n",
       "<style scoped>\n",
       "    .dataframe tbody tr th:only-of-type {\n",
       "        vertical-align: middle;\n",
       "    }\n",
       "\n",
       "    .dataframe tbody tr th {\n",
       "        vertical-align: top;\n",
       "    }\n",
       "\n",
       "    .dataframe thead th {\n",
       "        text-align: right;\n",
       "    }\n",
       "</style>\n",
       "<table border=\"1\" class=\"dataframe\">\n",
       "  <thead>\n",
       "    <tr style=\"text-align: right;\">\n",
       "      <th></th>\n",
       "      <th></th>\n",
       "      <th>para_text</th>\n",
       "      <th>AC_types</th>\n",
       "    </tr>\n",
       "    <tr>\n",
       "      <th>essay_id</th>\n",
       "      <th>split</th>\n",
       "      <th></th>\n",
       "      <th></th>\n",
       "    </tr>\n",
       "  </thead>\n",
       "  <tbody>\n",
       "    <tr>\n",
       "      <th>0</th>\n",
       "      <th>TRAIN</th>\n",
       "      <td>&lt;prompt&gt; Should students be taught to compete ...</td>\n",
       "      <td>[]['MajorClaim']['Claim', 'Premise', 'Premise'...</td>\n",
       "    </tr>\n",
       "    <tr>\n",
       "      <th>1</th>\n",
       "      <th>TRAIN</th>\n",
       "      <td>&lt;prompt&gt; More people are migrating to other co...</td>\n",
       "      <td>[]['MajorClaim']['Premise', 'Premise', 'Premis...</td>\n",
       "    </tr>\n",
       "    <tr>\n",
       "      <th>2</th>\n",
       "      <th>TRAIN</th>\n",
       "      <td>&lt;prompt&gt; International tourism is now more com...</td>\n",
       "      <td>[]['MajorClaim']['Premise', 'Premise', 'Premis...</td>\n",
       "    </tr>\n",
       "    <tr>\n",
       "      <th>3</th>\n",
       "      <th>TEST</th>\n",
       "      <td>&lt;prompt&gt; Will newspapers become a thing of the...</td>\n",
       "      <td>[]['MajorClaim']['Premise', 'Premise', 'Premis...</td>\n",
       "    </tr>\n",
       "    <tr>\n",
       "      <th>4</th>\n",
       "      <th>TEST</th>\n",
       "      <td>&lt;prompt&gt; Government budget focus , young child...</td>\n",
       "      <td>[]['MajorClaim']['Premise', 'Premise', 'Premis...</td>\n",
       "    </tr>\n",
       "    <tr>\n",
       "      <th>...</th>\n",
       "      <th>...</th>\n",
       "      <td>...</td>\n",
       "      <td>...</td>\n",
       "    </tr>\n",
       "    <tr>\n",
       "      <th>397</th>\n",
       "      <th>TEST</th>\n",
       "      <td>&lt;prompt&gt; The maintenance of traditional skills...</td>\n",
       "      <td>[]['MajorClaim']['Claim', 'Premise', 'Premise'...</td>\n",
       "    </tr>\n",
       "    <tr>\n",
       "      <th>398</th>\n",
       "      <th>TRAIN</th>\n",
       "      <td>&lt;prompt&gt; University education restriction &lt;/pr...</td>\n",
       "      <td>[][]['Claim', 'Premise', 'Premise', 'Premise']...</td>\n",
       "    </tr>\n",
       "    <tr>\n",
       "      <th>399</th>\n",
       "      <th>TRAIN</th>\n",
       "      <td>&lt;prompt&gt; Police force carries guns - significa...</td>\n",
       "      <td>[]['MajorClaim']['Premise', 'Premise', 'Premis...</td>\n",
       "    </tr>\n",
       "    <tr>\n",
       "      <th>400</th>\n",
       "      <th>TRAIN</th>\n",
       "      <td>&lt;prompt&gt; Gun control and increasing violence &lt;...</td>\n",
       "      <td>[]['MajorClaim']['Claim', 'Premise', 'Premise'...</td>\n",
       "    </tr>\n",
       "    <tr>\n",
       "      <th>401</th>\n",
       "      <th>TRAIN</th>\n",
       "      <td>&lt;prompt&gt; A greater proportion of the budget sh...</td>\n",
       "      <td>[]['MajorClaim']['Premise', 'Premise', 'Claim'...</td>\n",
       "    </tr>\n",
       "  </tbody>\n",
       "</table>\n",
       "<p>402 rows × 2 columns</p>\n",
       "</div>"
      ],
      "text/plain": [
       "                                                        para_text  \\\n",
       "essay_id split                                                      \n",
       "0        TRAIN  <prompt> Should students be taught to compete ...   \n",
       "1        TRAIN  <prompt> More people are migrating to other co...   \n",
       "2        TRAIN  <prompt> International tourism is now more com...   \n",
       "3        TEST   <prompt> Will newspapers become a thing of the...   \n",
       "4        TEST   <prompt> Government budget focus , young child...   \n",
       "...                                                           ...   \n",
       "397      TEST   <prompt> The maintenance of traditional skills...   \n",
       "398      TRAIN  <prompt> University education restriction </pr...   \n",
       "399      TRAIN  <prompt> Police force carries guns - significa...   \n",
       "400      TRAIN  <prompt> Gun control and increasing violence <...   \n",
       "401      TRAIN  <prompt> A greater proportion of the budget sh...   \n",
       "\n",
       "                                                         AC_types  \n",
       "essay_id split                                                     \n",
       "0        TRAIN  []['MajorClaim']['Claim', 'Premise', 'Premise'...  \n",
       "1        TRAIN  []['MajorClaim']['Premise', 'Premise', 'Premis...  \n",
       "2        TRAIN  []['MajorClaim']['Premise', 'Premise', 'Premis...  \n",
       "3        TEST   []['MajorClaim']['Premise', 'Premise', 'Premis...  \n",
       "4        TEST   []['MajorClaim']['Premise', 'Premise', 'Premis...  \n",
       "...                                                           ...  \n",
       "397      TEST   []['MajorClaim']['Claim', 'Premise', 'Premise'...  \n",
       "398      TRAIN  [][]['Claim', 'Premise', 'Premise', 'Premise']...  \n",
       "399      TRAIN  []['MajorClaim']['Premise', 'Premise', 'Premis...  \n",
       "400      TRAIN  []['MajorClaim']['Claim', 'Premise', 'Premise'...  \n",
       "401      TRAIN  []['MajorClaim']['Premise', 'Premise', 'Claim'...  \n",
       "\n",
       "[402 rows x 2 columns]"
      ]
     },
     "execution_count": 181,
     "metadata": {},
     "output_type": "execute_result"
    }
   ],
   "source": [
    "essays_df"
   ]
  },
  {
   "cell_type": "code",
   "execution_count": 182,
   "id": "f7592b86-fdb3-4c71-a2ee-d4616e517cbb",
   "metadata": {},
   "outputs": [],
   "source": [
    "essays_df['split'] = [x[1] for x in essays_df.index]"
   ]
  },
  {
   "cell_type": "code",
   "execution_count": 183,
   "id": "ad6f5b5b-8cf6-4475-b1dc-0711cc494680",
   "metadata": {},
   "outputs": [
    {
     "data": {
      "text/html": [
       "<div>\n",
       "<style scoped>\n",
       "    .dataframe tbody tr th:only-of-type {\n",
       "        vertical-align: middle;\n",
       "    }\n",
       "\n",
       "    .dataframe tbody tr th {\n",
       "        vertical-align: top;\n",
       "    }\n",
       "\n",
       "    .dataframe thead th {\n",
       "        text-align: right;\n",
       "    }\n",
       "</style>\n",
       "<table border=\"1\" class=\"dataframe\">\n",
       "  <thead>\n",
       "    <tr style=\"text-align: right;\">\n",
       "      <th></th>\n",
       "      <th></th>\n",
       "      <th>para_text</th>\n",
       "      <th>AC_types</th>\n",
       "      <th>split</th>\n",
       "    </tr>\n",
       "    <tr>\n",
       "      <th>essay_id</th>\n",
       "      <th>split</th>\n",
       "      <th></th>\n",
       "      <th></th>\n",
       "      <th></th>\n",
       "    </tr>\n",
       "  </thead>\n",
       "  <tbody>\n",
       "    <tr>\n",
       "      <th>0</th>\n",
       "      <th>TRAIN</th>\n",
       "      <td>&lt;prompt&gt; Should students be taught to compete ...</td>\n",
       "      <td>[]['MajorClaim']['Claim', 'Premise', 'Premise'...</td>\n",
       "      <td>TRAIN</td>\n",
       "    </tr>\n",
       "    <tr>\n",
       "      <th>1</th>\n",
       "      <th>TRAIN</th>\n",
       "      <td>&lt;prompt&gt; More people are migrating to other co...</td>\n",
       "      <td>[]['MajorClaim']['Premise', 'Premise', 'Premis...</td>\n",
       "      <td>TRAIN</td>\n",
       "    </tr>\n",
       "    <tr>\n",
       "      <th>2</th>\n",
       "      <th>TRAIN</th>\n",
       "      <td>&lt;prompt&gt; International tourism is now more com...</td>\n",
       "      <td>[]['MajorClaim']['Premise', 'Premise', 'Premis...</td>\n",
       "      <td>TRAIN</td>\n",
       "    </tr>\n",
       "    <tr>\n",
       "      <th>3</th>\n",
       "      <th>TEST</th>\n",
       "      <td>&lt;prompt&gt; Will newspapers become a thing of the...</td>\n",
       "      <td>[]['MajorClaim']['Premise', 'Premise', 'Premis...</td>\n",
       "      <td>TEST</td>\n",
       "    </tr>\n",
       "    <tr>\n",
       "      <th>4</th>\n",
       "      <th>TEST</th>\n",
       "      <td>&lt;prompt&gt; Government budget focus , young child...</td>\n",
       "      <td>[]['MajorClaim']['Premise', 'Premise', 'Premis...</td>\n",
       "      <td>TEST</td>\n",
       "    </tr>\n",
       "    <tr>\n",
       "      <th>...</th>\n",
       "      <th>...</th>\n",
       "      <td>...</td>\n",
       "      <td>...</td>\n",
       "      <td>...</td>\n",
       "    </tr>\n",
       "    <tr>\n",
       "      <th>397</th>\n",
       "      <th>TEST</th>\n",
       "      <td>&lt;prompt&gt; The maintenance of traditional skills...</td>\n",
       "      <td>[]['MajorClaim']['Claim', 'Premise', 'Premise'...</td>\n",
       "      <td>TEST</td>\n",
       "    </tr>\n",
       "    <tr>\n",
       "      <th>398</th>\n",
       "      <th>TRAIN</th>\n",
       "      <td>&lt;prompt&gt; University education restriction &lt;/pr...</td>\n",
       "      <td>[][]['Claim', 'Premise', 'Premise', 'Premise']...</td>\n",
       "      <td>TRAIN</td>\n",
       "    </tr>\n",
       "    <tr>\n",
       "      <th>399</th>\n",
       "      <th>TRAIN</th>\n",
       "      <td>&lt;prompt&gt; Police force carries guns - significa...</td>\n",
       "      <td>[]['MajorClaim']['Premise', 'Premise', 'Premis...</td>\n",
       "      <td>TRAIN</td>\n",
       "    </tr>\n",
       "    <tr>\n",
       "      <th>400</th>\n",
       "      <th>TRAIN</th>\n",
       "      <td>&lt;prompt&gt; Gun control and increasing violence &lt;...</td>\n",
       "      <td>[]['MajorClaim']['Claim', 'Premise', 'Premise'...</td>\n",
       "      <td>TRAIN</td>\n",
       "    </tr>\n",
       "    <tr>\n",
       "      <th>401</th>\n",
       "      <th>TRAIN</th>\n",
       "      <td>&lt;prompt&gt; A greater proportion of the budget sh...</td>\n",
       "      <td>[]['MajorClaim']['Premise', 'Premise', 'Claim'...</td>\n",
       "      <td>TRAIN</td>\n",
       "    </tr>\n",
       "  </tbody>\n",
       "</table>\n",
       "<p>402 rows × 3 columns</p>\n",
       "</div>"
      ],
      "text/plain": [
       "                                                        para_text  \\\n",
       "essay_id split                                                      \n",
       "0        TRAIN  <prompt> Should students be taught to compete ...   \n",
       "1        TRAIN  <prompt> More people are migrating to other co...   \n",
       "2        TRAIN  <prompt> International tourism is now more com...   \n",
       "3        TEST   <prompt> Will newspapers become a thing of the...   \n",
       "4        TEST   <prompt> Government budget focus , young child...   \n",
       "...                                                           ...   \n",
       "397      TEST   <prompt> The maintenance of traditional skills...   \n",
       "398      TRAIN  <prompt> University education restriction </pr...   \n",
       "399      TRAIN  <prompt> Police force carries guns - significa...   \n",
       "400      TRAIN  <prompt> Gun control and increasing violence <...   \n",
       "401      TRAIN  <prompt> A greater proportion of the budget sh...   \n",
       "\n",
       "                                                         AC_types  split  \n",
       "essay_id split                                                            \n",
       "0        TRAIN  []['MajorClaim']['Claim', 'Premise', 'Premise'...  TRAIN  \n",
       "1        TRAIN  []['MajorClaim']['Premise', 'Premise', 'Premis...  TRAIN  \n",
       "2        TRAIN  []['MajorClaim']['Premise', 'Premise', 'Premis...  TRAIN  \n",
       "3        TEST   []['MajorClaim']['Premise', 'Premise', 'Premis...   TEST  \n",
       "4        TEST   []['MajorClaim']['Premise', 'Premise', 'Premis...   TEST  \n",
       "...                                                           ...    ...  \n",
       "397      TEST   []['MajorClaim']['Claim', 'Premise', 'Premise'...   TEST  \n",
       "398      TRAIN  [][]['Claim', 'Premise', 'Premise', 'Premise']...  TRAIN  \n",
       "399      TRAIN  []['MajorClaim']['Premise', 'Premise', 'Premis...  TRAIN  \n",
       "400      TRAIN  []['MajorClaim']['Claim', 'Premise', 'Premise'...  TRAIN  \n",
       "401      TRAIN  []['MajorClaim']['Premise', 'Premise', 'Claim'...  TRAIN  \n",
       "\n",
       "[402 rows x 3 columns]"
      ]
     },
     "execution_count": 183,
     "metadata": {},
     "output_type": "execute_result"
    }
   ],
   "source": [
    "essays_df"
   ]
  },
  {
   "cell_type": "code",
   "execution_count": 184,
   "id": "8b6d0100-8a76-4b30-beb1-94efbf63cf83",
   "metadata": {},
   "outputs": [],
   "source": [
    "def process_ac_types(x):\n",
    "\n",
    "    x = x.AC_types\n",
    "    x = x.replace(\"[]\", \"\")\n",
    "    x = x.replace(\"][\",\", \") \n",
    "    x = ast.literal_eval(x)\n",
    "\n",
    "    return x"
   ]
  },
  {
   "cell_type": "code",
   "execution_count": 185,
   "id": "beb8f6ce-dd41-4a94-9be7-62f8de079562",
   "metadata": {},
   "outputs": [],
   "source": [
    "essays_df[\"Essay_AC_types\"] = essays_df.apply(lambda x: process_ac_types(x), axis=1)"
   ]
  },
  {
   "cell_type": "code",
   "execution_count": 186,
   "id": "dfe044ef-a365-4a5b-ab47-3604ab7cfb8a",
   "metadata": {},
   "outputs": [
    {
     "data": {
      "text/html": [
       "<div>\n",
       "<style scoped>\n",
       "    .dataframe tbody tr th:only-of-type {\n",
       "        vertical-align: middle;\n",
       "    }\n",
       "\n",
       "    .dataframe tbody tr th {\n",
       "        vertical-align: top;\n",
       "    }\n",
       "\n",
       "    .dataframe thead th {\n",
       "        text-align: right;\n",
       "    }\n",
       "</style>\n",
       "<table border=\"1\" class=\"dataframe\">\n",
       "  <thead>\n",
       "    <tr style=\"text-align: right;\">\n",
       "      <th></th>\n",
       "      <th></th>\n",
       "      <th>para_text</th>\n",
       "      <th>AC_types</th>\n",
       "      <th>split</th>\n",
       "      <th>Essay_AC_types</th>\n",
       "    </tr>\n",
       "    <tr>\n",
       "      <th>essay_id</th>\n",
       "      <th>split</th>\n",
       "      <th></th>\n",
       "      <th></th>\n",
       "      <th></th>\n",
       "      <th></th>\n",
       "    </tr>\n",
       "  </thead>\n",
       "  <tbody>\n",
       "    <tr>\n",
       "      <th>0</th>\n",
       "      <th>TRAIN</th>\n",
       "      <td>&lt;prompt&gt; Should students be taught to compete ...</td>\n",
       "      <td>[]['MajorClaim']['Claim', 'Premise', 'Premise'...</td>\n",
       "      <td>TRAIN</td>\n",
       "      <td>[MajorClaim, Claim, Premise, Premise, Premise,...</td>\n",
       "    </tr>\n",
       "    <tr>\n",
       "      <th>1</th>\n",
       "      <th>TRAIN</th>\n",
       "      <td>&lt;prompt&gt; More people are migrating to other co...</td>\n",
       "      <td>[]['MajorClaim']['Premise', 'Premise', 'Premis...</td>\n",
       "      <td>TRAIN</td>\n",
       "      <td>[MajorClaim, Premise, Premise, Premise, Premis...</td>\n",
       "    </tr>\n",
       "    <tr>\n",
       "      <th>2</th>\n",
       "      <th>TRAIN</th>\n",
       "      <td>&lt;prompt&gt; International tourism is now more com...</td>\n",
       "      <td>[]['MajorClaim']['Premise', 'Premise', 'Premis...</td>\n",
       "      <td>TRAIN</td>\n",
       "      <td>[MajorClaim, Premise, Premise, Premise, Claim,...</td>\n",
       "    </tr>\n",
       "    <tr>\n",
       "      <th>3</th>\n",
       "      <th>TEST</th>\n",
       "      <td>&lt;prompt&gt; Will newspapers become a thing of the...</td>\n",
       "      <td>[]['MajorClaim']['Premise', 'Premise', 'Premis...</td>\n",
       "      <td>TEST</td>\n",
       "      <td>[MajorClaim, Premise, Premise, Premise, Claim,...</td>\n",
       "    </tr>\n",
       "    <tr>\n",
       "      <th>4</th>\n",
       "      <th>TEST</th>\n",
       "      <td>&lt;prompt&gt; Government budget focus , young child...</td>\n",
       "      <td>[]['MajorClaim']['Premise', 'Premise', 'Premis...</td>\n",
       "      <td>TEST</td>\n",
       "      <td>[MajorClaim, Premise, Premise, Premise, Claim,...</td>\n",
       "    </tr>\n",
       "    <tr>\n",
       "      <th>...</th>\n",
       "      <th>...</th>\n",
       "      <td>...</td>\n",
       "      <td>...</td>\n",
       "      <td>...</td>\n",
       "      <td>...</td>\n",
       "    </tr>\n",
       "    <tr>\n",
       "      <th>397</th>\n",
       "      <th>TEST</th>\n",
       "      <td>&lt;prompt&gt; The maintenance of traditional skills...</td>\n",
       "      <td>[]['MajorClaim']['Claim', 'Premise', 'Premise'...</td>\n",
       "      <td>TEST</td>\n",
       "      <td>[MajorClaim, Claim, Premise, Premise, Claim, P...</td>\n",
       "    </tr>\n",
       "    <tr>\n",
       "      <th>398</th>\n",
       "      <th>TRAIN</th>\n",
       "      <td>&lt;prompt&gt; University education restriction &lt;/pr...</td>\n",
       "      <td>[][]['Claim', 'Premise', 'Premise', 'Premise']...</td>\n",
       "      <td>TRAIN</td>\n",
       "      <td>[Claim, Premise, Premise, Premise, Premise, Cl...</td>\n",
       "    </tr>\n",
       "    <tr>\n",
       "      <th>399</th>\n",
       "      <th>TRAIN</th>\n",
       "      <td>&lt;prompt&gt; Police force carries guns - significa...</td>\n",
       "      <td>[]['MajorClaim']['Premise', 'Premise', 'Premis...</td>\n",
       "      <td>TRAIN</td>\n",
       "      <td>[MajorClaim, Premise, Premise, Premise, Premis...</td>\n",
       "    </tr>\n",
       "    <tr>\n",
       "      <th>400</th>\n",
       "      <th>TRAIN</th>\n",
       "      <td>&lt;prompt&gt; Gun control and increasing violence &lt;...</td>\n",
       "      <td>[]['MajorClaim']['Claim', 'Premise', 'Premise'...</td>\n",
       "      <td>TRAIN</td>\n",
       "      <td>[MajorClaim, Claim, Premise, Premise, Claim, P...</td>\n",
       "    </tr>\n",
       "    <tr>\n",
       "      <th>401</th>\n",
       "      <th>TRAIN</th>\n",
       "      <td>&lt;prompt&gt; A greater proportion of the budget sh...</td>\n",
       "      <td>[]['MajorClaim']['Premise', 'Premise', 'Claim'...</td>\n",
       "      <td>TRAIN</td>\n",
       "      <td>[MajorClaim, Premise, Premise, Claim, Premise,...</td>\n",
       "    </tr>\n",
       "  </tbody>\n",
       "</table>\n",
       "<p>402 rows × 4 columns</p>\n",
       "</div>"
      ],
      "text/plain": [
       "                                                        para_text  \\\n",
       "essay_id split                                                      \n",
       "0        TRAIN  <prompt> Should students be taught to compete ...   \n",
       "1        TRAIN  <prompt> More people are migrating to other co...   \n",
       "2        TRAIN  <prompt> International tourism is now more com...   \n",
       "3        TEST   <prompt> Will newspapers become a thing of the...   \n",
       "4        TEST   <prompt> Government budget focus , young child...   \n",
       "...                                                           ...   \n",
       "397      TEST   <prompt> The maintenance of traditional skills...   \n",
       "398      TRAIN  <prompt> University education restriction </pr...   \n",
       "399      TRAIN  <prompt> Police force carries guns - significa...   \n",
       "400      TRAIN  <prompt> Gun control and increasing violence <...   \n",
       "401      TRAIN  <prompt> A greater proportion of the budget sh...   \n",
       "\n",
       "                                                         AC_types  split  \\\n",
       "essay_id split                                                             \n",
       "0        TRAIN  []['MajorClaim']['Claim', 'Premise', 'Premise'...  TRAIN   \n",
       "1        TRAIN  []['MajorClaim']['Premise', 'Premise', 'Premis...  TRAIN   \n",
       "2        TRAIN  []['MajorClaim']['Premise', 'Premise', 'Premis...  TRAIN   \n",
       "3        TEST   []['MajorClaim']['Premise', 'Premise', 'Premis...   TEST   \n",
       "4        TEST   []['MajorClaim']['Premise', 'Premise', 'Premis...   TEST   \n",
       "...                                                           ...    ...   \n",
       "397      TEST   []['MajorClaim']['Claim', 'Premise', 'Premise'...   TEST   \n",
       "398      TRAIN  [][]['Claim', 'Premise', 'Premise', 'Premise']...  TRAIN   \n",
       "399      TRAIN  []['MajorClaim']['Premise', 'Premise', 'Premis...  TRAIN   \n",
       "400      TRAIN  []['MajorClaim']['Claim', 'Premise', 'Premise'...  TRAIN   \n",
       "401      TRAIN  []['MajorClaim']['Premise', 'Premise', 'Claim'...  TRAIN   \n",
       "\n",
       "                                                   Essay_AC_types  \n",
       "essay_id split                                                     \n",
       "0        TRAIN  [MajorClaim, Claim, Premise, Premise, Premise,...  \n",
       "1        TRAIN  [MajorClaim, Premise, Premise, Premise, Premis...  \n",
       "2        TRAIN  [MajorClaim, Premise, Premise, Premise, Claim,...  \n",
       "3        TEST   [MajorClaim, Premise, Premise, Premise, Claim,...  \n",
       "4        TEST   [MajorClaim, Premise, Premise, Premise, Claim,...  \n",
       "...                                                           ...  \n",
       "397      TEST   [MajorClaim, Claim, Premise, Premise, Claim, P...  \n",
       "398      TRAIN  [Claim, Premise, Premise, Premise, Premise, Cl...  \n",
       "399      TRAIN  [MajorClaim, Premise, Premise, Premise, Premis...  \n",
       "400      TRAIN  [MajorClaim, Claim, Premise, Premise, Claim, P...  \n",
       "401      TRAIN  [MajorClaim, Premise, Premise, Claim, Premise,...  \n",
       "\n",
       "[402 rows x 4 columns]"
      ]
     },
     "execution_count": 186,
     "metadata": {},
     "output_type": "execute_result"
    }
   ],
   "source": [
    "essays_df"
   ]
  },
  {
   "cell_type": "markdown",
   "id": "63a578e2-63f5-4860-965c-ef5e659149a7",
   "metadata": {},
   "source": [
    "## Prepare prompt"
   ]
  },
  {
   "cell_type": "raw",
   "id": "19810919-95b9-404b-a1bd-e066cf281d9f",
   "metadata": {},
   "source": [
    "Prompt Template 1:\n",
    "\n",
    "Paragrapht Text, ACs, AR pairs.\n",
    "\n",
    "<instruction> You are an expert in Argument Mining. You are given a paragraph and a numbered list of argument components. Your task is to identify argument relations in the paragraph given as pairs of argument component numbers.\n",
    "<input> paragraph text, numbered list of ACs\n",
    "<output> (2, 4), (2, 5), (3, 1)\n",
    "\n",
    "\n",
    "Prompt Template 2:\n",
    "\n",
    "Paragraph Text with ACs, AR pairs.\n",
    "\n",
    "<instruction> You are an expert in Argument Mining. You are given a paragraph with argument components. Your task is to identify argument relations in the paragraph given as pairs of argument component numbers.\n",
    "<input> paragraph text, numbered ACs\n",
    "<output> (2, 4), (2, 5), (3, 1)\n",
    "\n",
    "We start with template 2.\n",
    "\n",
    "# You must return a JSON with format {\\\"Argument 1\\\": <predicted class for Argument 1 (str)>, ..., \\\"Argument n\\\": <predicted class for Argument n (str)>}\\n\\n### Class definitions:\\nMajorClaim=\"\n",
    "\n",
    "You must return a list of ac pairs in JSON format: {{\"list of ACs\": [(target AC (int), source AC (int)), ..., (target AC (int), source AC (int))]}}"
   ]
  },
  {
   "cell_type": "code",
   "execution_count": 187,
   "id": "f02ffd05-4249-4830-9752-5b96c2d48d27",
   "metadata": {
    "tags": []
   },
   "outputs": [],
   "source": [
    "def formatting_fct(instruction=\"\", input=\"\", output=\"\", mode=\"train\"):\n",
    "    \n",
    "    prompt_d ={\n",
    "            \n",
    "        \"instruction\": f\"\"\"{instruction}\"\"\",\n",
    "        \"input\": f\"\"\"{input}\"\"\",\n",
    "        \"output\": f\"\"\"{output if mode=='train' else ''}\"\"\"\n",
    "            \n",
    "        }\n",
    "    \n",
    "    return prompt_d"
   ]
  },
  {
   "cell_type": "code",
   "execution_count": 188,
   "id": "427b49a6-e02e-4bcc-a8c2-defbc87157d9",
   "metadata": {
    "tags": []
   },
   "outputs": [],
   "source": [
    "instruction = \"\"\"### You are an expert in Argument Mining. You are given an essay which contains numbered argument components enclosed by <AC></AC> tags. Your task is to classify each argument components in the essay as either \"MajorClaim\", \"Claim\" or \"Premise\". You must return a list of argument component types in following JSON format: {\"component_types\": [component_type (str), component_type (str), ..., component_type (str)]}\n",
    "\"\"\""
   ]
  },
  {
   "cell_type": "code",
   "execution_count": 189,
   "id": "9d3f085d-1921-4e57-adbd-dbfd8bd2d386",
   "metadata": {
    "tags": []
   },
   "outputs": [
    {
     "name": "stdout",
     "output_type": "stream",
     "text": [
      "### You are an expert in Argument Mining. You are given an essay which contains numbered argument components enclosed by <AC></AC> tags. Your task is to classify each argument components in the essay as either \"MajorClaim\", \"Claim\" or \"Premise\". You must return a list of argument component types in following JSON format: {\"component_types\": [component_type (str), component_type (str), ..., component_type (str)]}\n",
      "\n"
     ]
    }
   ],
   "source": [
    "print(instruction)"
   ]
  },
  {
   "cell_type": "code",
   "execution_count": 190,
   "id": "3aeb77b7-4b31-4e97-8d3f-b5d436496372",
   "metadata": {
    "tags": []
   },
   "outputs": [],
   "source": [
    "def replace_substring_with_position(main_string, substring):\n",
    "    result = \"\"\n",
    "    start = 0\n",
    "    current_index = 0\n",
    "    position = 0  # Initialize position counter\n",
    "    \n",
    "    while current_index < len(main_string):\n",
    "        current_index = main_string.find(substring, current_index)\n",
    "        if current_index == -1:\n",
    "            break\n",
    "        \n",
    "        # Append part of the string before the current match\n",
    "        result += main_string[start:current_index]\n",
    "        \n",
    "        # Append the replacement\n",
    "        sstring = substring[:-1]\n",
    "        # ac_type = ac_types[position]\n",
    "        \n",
    "        result += f\"{sstring}{position}>\"\n",
    "        \n",
    "        # Update the start to be the end of the current match\n",
    "        start = current_index + len(substring)\n",
    "        current_index = start\n",
    "        \n",
    "        # Increment the position counter\n",
    "        position += 1\n",
    "    \n",
    "    # Append any remaining part of the string\n",
    "    result += main_string[start:]\n",
    "    \n",
    "    return result\n"
   ]
  },
  {
   "cell_type": "code",
   "execution_count": 191,
   "id": "f659f403-2aca-41a6-af45-44145a84591a",
   "metadata": {
    "tags": []
   },
   "outputs": [],
   "source": [
    "def build_input(paragraph):\n",
    "    \n",
    "    paragraph = paragraph.replace(\"<prompt> \", \"<topic> \")\n",
    "    paragraph = paragraph.replace(\" </prompt>\", \" </topic>\")\n",
    "    # comment next lines for with paragraph tags\n",
    "    paragraph = paragraph.replace(\"<topic> \", \"\")\n",
    "    paragraph = paragraph.replace(\" </topic>\", \"\")\n",
    "    paragraph = paragraph.replace(\"<para-intro> \", \"\")\n",
    "    paragraph = paragraph.replace(\" </para-intro>\", \"\")\n",
    "    paragraph = paragraph.replace(\"<para-body> \", \"\")\n",
    "    paragraph = paragraph.replace(\" </para-body>\", \"\")\n",
    "    paragraph = paragraph.replace(\"<para-conclusion> \", \"\")\n",
    "    paragraph = paragraph.replace(\" </para-conclusion>\", \"\")\n",
    "    \n",
    "    \n",
    "    paragraph = replace_substring_with_position(paragraph, \"<AC>\")\n",
    "    paragraph = replace_substring_with_position(paragraph, \"</AC>\")\n",
    "\n",
    "    \n",
    "    question = f\"\"\"### Here is the essay text: {paragraph}\"\"\"\n",
    "    \n",
    "    return question"
   ]
  },
  {
   "cell_type": "code",
   "execution_count": 192,
   "id": "7cbf4933-227b-4895-8fc4-b07020d3b66b",
   "metadata": {
    "tags": []
   },
   "outputs": [],
   "source": [
    "def build_answer(ac_types):\n",
    "\n",
    "    \n",
    "    return json.dumps({\"component_types\": ac_types})"
   ]
  },
  {
   "cell_type": "code",
   "execution_count": 193,
   "id": "919a1870-1ae1-4491-a06e-c90ebb2aaad4",
   "metadata": {
    "tags": []
   },
   "outputs": [],
   "source": [
    "# print(formatting_fct(instruction, question, answer, mode=\"train\"))"
   ]
  },
  {
   "cell_type": "code",
   "execution_count": 194,
   "id": "673ae0a3-7e4b-4811-86eb-9ee46fe70aed",
   "metadata": {
    "tags": []
   },
   "outputs": [
    {
     "data": {
      "text/plain": [
       "split\n",
       "TRAIN    322\n",
       "TEST      80\n",
       "Name: count, dtype: int64"
      ]
     },
     "execution_count": 194,
     "metadata": {},
     "output_type": "execute_result"
    }
   ],
   "source": [
    "essays_df.split.value_counts()"
   ]
  },
  {
   "cell_type": "markdown",
   "id": "9056fd22-4718-436e-bfc3-42a433d5bf3f",
   "metadata": {},
   "source": [
    "## Prepare data files"
   ]
  },
  {
   "cell_type": "markdown",
   "id": "b0baac15-666a-4181-b5c4-af9f7ab668b9",
   "metadata": {},
   "source": [
    "### Train set"
   ]
  },
  {
   "cell_type": "code",
   "execution_count": 195,
   "id": "c9c0f082-2f50-4543-abcd-7a64726ad7ff",
   "metadata": {
    "tags": []
   },
   "outputs": [],
   "source": [
    "data_file_train = []\n",
    "\n",
    "for index, _ in essays_df[essays_df[\"split\"] == \"TRAIN\"].iterrows():\n",
    "    i = index[0]\n",
    "    question = build_input(essays_df.iloc[i].para_text)\n",
    "    answer = build_answer(essays_df.iloc[i].Essay_AC_types)\n",
    "    \n",
    "    data_file_train.append( formatting_fct(instruction, question, answer, mode=\"train\") )"
   ]
  },
  {
   "cell_type": "code",
   "execution_count": 196,
   "id": "52f56e72-44f2-44e9-8a91-dc4023de5dde",
   "metadata": {
    "tags": []
   },
   "outputs": [
    {
     "data": {
      "text/plain": [
       "322"
      ]
     },
     "execution_count": 196,
     "metadata": {},
     "output_type": "execute_result"
    }
   ],
   "source": [
    "len(data_file_train)"
   ]
  },
  {
   "cell_type": "code",
   "execution_count": 197,
   "id": "6597503e-a445-49fc-b190-87825192ace1",
   "metadata": {
    "tags": []
   },
   "outputs": [
    {
     "name": "stdout",
     "output_type": "stream",
     "text": [
      "{'instruction': '### You are an expert in Argument Mining. You are given an essay which contains numbered argument components enclosed by <AC></AC> tags. Your task is to classify each argument components in the essay as either \"MajorClaim\", \"Claim\" or \"Premise\". You must return a list of argument component types in following JSON format: {\"component_types\": [component_type (str), component_type (str), ..., component_type (str)]}\\n', 'input': \"### Here is the essay text: Should students be taught to compete or to cooperate ?It is always said that competition can effectively promote the development of economy . In order to survive in the competition , companies continue to improve their products and service , and as a result , the whole society prospers . However , when we discuss the issue of competition or cooperation , what we are concerned about is not the whole society , but the development of an individual ' s whole life . From this point of view , I firmly believe that <AC0> we should attach more importance to cooperation during primary education </AC0> .First of all , <AC1> through cooperation , children can learn about interpersonal skills which are significant in the future life of all students </AC1> . <AC2> What we acquired from team work is not only how to achieve the same goal with others but more importantly , how to get along with others </AC2> . <AC3> During the process of cooperation , children can learn about how to listen to opinions of others , how to communicate with others , how to think comprehensively , and even how to compromise with other team members when conflicts occurred </AC3> . <AC4> All of these skills help them to get on well with other people and will benefit them for the whole life </AC4> .On the other hand , <AC5> the significance of competition is that how to become more excellence to gain the victory </AC5> . Hence it is always said that <AC6> competition makes the society more effective </AC6> . However , <AC7> when we consider about the question that how to win the game , we always find that we need the cooperation </AC7> . The greater our goal is , the more competition we need . <AC8> Take Olympic games which is a form of competition for instance , it is hard to imagine how an athlete could win the game without the training of his or her coach , and the help of other professional staffs such as the people who take care of his diet , and those who are in charge of the medical care </AC8> . The winner is the athlete but the success belongs to the whole team . Therefore <AC9> without the cooperation , there would be no victory of competition </AC9> .Consequently , no matter from the view of individual development or the relationship between competition and cooperation we can receive the same conclusion that <AC10> a more cooperative attitudes towards life is more profitable in one ' s success </AC10> .\", 'output': '{\"component_types\": [\"MajorClaim\", \"Claim\", \"Premise\", \"Premise\", \"Premise\", \"Premise\", \"Claim\", \"Premise\", \"Premise\", \"Claim\", \"MajorClaim\"]}'}\n",
      "\n",
      "{'instruction': '### You are an expert in Argument Mining. You are given an essay which contains numbered argument components enclosed by <AC></AC> tags. Your task is to classify each argument components in the essay as either \"MajorClaim\", \"Claim\" or \"Premise\". You must return a list of argument component types in following JSON format: {\"component_types\": [component_type (str), component_type (str), ..., component_type (str)]}\\n', 'input': '### Here is the essay text: More people are migrating to other countries than ever beforeThe last 50 years have seen an increasing number of immigrants to other countries . People moved due to a number of reasons , namely better educations or higher salary jobs . Some people thought that they should follow the local customs in order to integrate into their adopted countries ’ cultures . However I strongly believe that <AC0> they are able to sustain their cultural identities and doing so help they keep their origin values </AC0> .Firstly , <AC1> maintaining one ’ s cultural identity is a key important rule to help individuals emerge in the new multicultural environments </AC1> . <AC2> Take Australia for example , immigrants from varieties of nations have a day called multicultural day where people from each country prepare their food and traditional activities for displaying in the public venues </AC2> . <AC3> Many Australians come this day to enjoy the shows , learn about the cultures and admire the diverse values </AC3> . <AC4> These feedbacks , in turn , help raise one ’ s pride of their cultures and help people understand each other more </AC4> . Thus this makes it clear that <AC5> sustaining the cultural values of immigrants is paramount essential </AC5> .Secondly , <AC6> it is crucial to keep one ’ s identity </AC6> for <AC7> they need a connection back to their country as well as teach their children their value of origin </AC7> . For instance , <AC8> children immigrated to a new country will face social troubles in school with new friends </AC8> . <AC9> In this new environment , parent should find friends coming from their same country so that they can socialize in a very familiar manner as feeling being home </AC9> . <AC10> Fail to create this familiarity makes them felt isolated , in the extreme can lead to social disorder like autism </AC10> . Hence , it is clear that <AC11> keeping the cultural traditions in the destination countries is tremendous important </AC11> .To conclude , although <AC12> there are opposing ideas of neglecting one ’ s cultural values to adapt in the new cultures </AC12> . As far as I am concerned , <AC13> sustaining the traditions will make the immigrated people keep their cultural identity and give them confident among the many culture society </AC13> .', 'output': '{\"component_types\": [\"MajorClaim\", \"Premise\", \"Premise\", \"Premise\", \"Premise\", \"Claim\", \"Premise\", \"Premise\", \"Premise\", \"Premise\", \"Premise\", \"Claim\", \"Claim\", \"MajorClaim\"]}'}\n",
      "\n",
      "{'instruction': '### You are an expert in Argument Mining. You are given an essay which contains numbered argument components enclosed by <AC></AC> tags. Your task is to classify each argument components in the essay as either \"MajorClaim\", \"Claim\" or \"Premise\". You must return a list of argument component types in following JSON format: {\"component_types\": [component_type (str), component_type (str), ..., component_type (str)]}\\n', 'input': '### Here is the essay text: International tourism is now more common than ever beforeThe last decade has seen an increasing number of tourists traveling to visit natural wonder sights , ancient heritages and different cultures around the world . While some people might think that this international tourism has negative effects on the destination countries , I would contend that <AC0> it has contributed to the economic development as well as preserved the culture and environment of the tourist destinations </AC0> .Firstly , <AC1> international tourism promotes many aspects of the destination country ’ s economy in order to serve various demands of tourists </AC1> . <AC2> Take Cambodia for example , a large number of visitors coming to visit the Angkowat ancient temple need services like restaurants , hotels , souvenir shops and other stores </AC2> . <AC3> These demands trigger related business in the surrounding settings which in turn create many jobs for local people improve infrastructure and living standard </AC3> . Therefore <AC4> tourism has clearly improved lives in the tourist country </AC4> .Secondly , <AC5> through tourism industry , many cultural values have been preserved and natural environments have been protected </AC5> . For instance , <AC6> in Vietnam , many cultural costumes and natural scenes , namely ‘ Trong Dong ’ drum performance and ‘ Ha Long ’ bay , are being encouraged to preserve and funded by the tourism ministry </AC6> . <AC7> Without this support and profit from tourism , many traditional cultures would disappear due to its low income works </AC7> . Thus , <AC8> tourism has survived many non - tangible cultural values and beauty scenes </AC8> .To conclude , as far as I am concerned , <AC9> international tourism has both triggered economic development and maintained cultural and environment values of the tourist countries </AC9> . In addition , the authorities should adequately support these sustainable developments .', 'output': '{\"component_types\": [\"MajorClaim\", \"Premise\", \"Premise\", \"Premise\", \"Claim\", \"Premise\", \"Premise\", \"Premise\", \"Claim\", \"MajorClaim\"]}'}\n",
      "\n"
     ]
    }
   ],
   "source": [
    "for i in range(3):\n",
    "    \n",
    "    print(data_file_train[i])\n",
    "    print()"
   ]
  },
  {
   "cell_type": "code",
   "execution_count": 198,
   "id": "9d9d443f-1d3b-4d09-a1be-cf91ce68e423",
   "metadata": {},
   "outputs": [
    {
     "name": "stdout",
     "output_type": "stream",
     "text": [
      "{\"component_types\": [\"MajorClaim\", \"Premise\", \"Premise\", \"Premise\", \"Claim\", \"Premise\", \"Premise\", \"Premise\", \"Claim\", \"MajorClaim\"]}\n"
     ]
    }
   ],
   "source": [
    "print(data_file_train[2][\"output\"])"
   ]
  },
  {
   "cell_type": "code",
   "execution_count": 199,
   "id": "c8a9edc6-a31a-46e0-9f28-4b3ad8dbe7a6",
   "metadata": {},
   "outputs": [
    {
     "data": {
      "text/plain": [
       "322"
      ]
     },
     "execution_count": 199,
     "metadata": {},
     "output_type": "execute_result"
    }
   ],
   "source": [
    "len(data_file_train)"
   ]
  },
  {
   "cell_type": "code",
   "execution_count": 200,
   "id": "44fa318e-bd96-46e5-a255-fe4e6b3c6a93",
   "metadata": {},
   "outputs": [
    {
     "data": {
      "text/plain": [
       "list"
      ]
     },
     "execution_count": 200,
     "metadata": {},
     "output_type": "execute_result"
    }
   ],
   "source": [
    "type(json.loads(data_file_train[2][\"output\"])[\"component_types\"])"
   ]
  },
  {
   "cell_type": "markdown",
   "id": "415f6f40-ce08-4d31-896b-013e05c49537",
   "metadata": {
    "jp-MarkdownHeadingCollapsed": true
   },
   "source": [
    "### Validation set (optional)"
   ]
  },
  {
   "cell_type": "code",
   "execution_count": 37,
   "id": "fd4b15ba-fc07-46be-aba4-925d8f2422ef",
   "metadata": {
    "tags": []
   },
   "outputs": [],
   "source": [
    "# val_length = int(1417/10)"
   ]
  },
  {
   "cell_type": "code",
   "execution_count": 38,
   "id": "45588ea9-7063-4396-8811-f620bf43de77",
   "metadata": {
    "tags": []
   },
   "outputs": [],
   "source": [
    "# val_length"
   ]
  },
  {
   "cell_type": "code",
   "execution_count": 39,
   "id": "7f0dd173-ecb1-4563-adaf-aa5a7a2fd9de",
   "metadata": {
    "tags": []
   },
   "outputs": [],
   "source": [
    "# data_file_val = random.sample(data_file_train, val_length)"
   ]
  },
  {
   "cell_type": "code",
   "execution_count": 40,
   "id": "0aa9f691-0003-4605-8bd8-dede874fd938",
   "metadata": {
    "tags": []
   },
   "outputs": [],
   "source": [
    "# len(data_file_val)"
   ]
  },
  {
   "cell_type": "code",
   "execution_count": 41,
   "id": "9fd06ccd-19ff-4595-aabf-cc67d6fdabc3",
   "metadata": {
    "tags": []
   },
   "outputs": [],
   "source": [
    "# data_file_train = [message for message in data_file_train if message not in data_file_val]"
   ]
  },
  {
   "cell_type": "code",
   "execution_count": 42,
   "id": "193966bf-112b-42c9-8fa7-8b80c4dcb663",
   "metadata": {
    "tags": []
   },
   "outputs": [],
   "source": [
    "# len(data_file_train)"
   ]
  },
  {
   "cell_type": "code",
   "execution_count": 43,
   "id": "6895be27-d3a8-4990-a033-02e059ad1854",
   "metadata": {
    "tags": []
   },
   "outputs": [],
   "source": [
    "# data_file_val = []\n",
    "\n",
    "# for i, _ in df[df[\"essay_file\"].isin(val_essays_l)].iterrows():\n",
    "    \n",
    "#     question = build_question(df.iloc[i].argument_component)\n",
    "#     answer = build_answer(df.iloc[i].label)\n",
    "    \n",
    "#     data_file_val.append( formatting_fct(my_task_description, question, answer, mode=\"train\") )"
   ]
  },
  {
   "cell_type": "code",
   "execution_count": 44,
   "id": "331ab12d-d648-44d7-9d12-09a819139ea0",
   "metadata": {
    "tags": []
   },
   "outputs": [],
   "source": [
    "#len(data_file_val)"
   ]
  },
  {
   "cell_type": "code",
   "execution_count": 45,
   "id": "a236eb04-4d63-4cbc-8512-e3b81cc59d97",
   "metadata": {
    "tags": []
   },
   "outputs": [],
   "source": [
    "# for i in range(3):\n",
    "    \n",
    "#     print(data_file_val[i])\n",
    "#     print()"
   ]
  },
  {
   "cell_type": "markdown",
   "id": "2d704569-fbb9-4fdd-bc3a-4baf4acbbb38",
   "metadata": {},
   "source": [
    "### Test set"
   ]
  },
  {
   "cell_type": "code",
   "execution_count": 201,
   "id": "a5b4ba42-30cb-4ea2-b2de-a9f12d4eeb9f",
   "metadata": {
    "tags": []
   },
   "outputs": [],
   "source": [
    "data_file_test = []\n",
    "\n",
    "for index, _ in essays_df[essays_df.split == \"TEST\"].iterrows():    \n",
    "    i = index[0]\n",
    "    question = build_input(essays_df.iloc[i].para_text)\n",
    "    answer = build_answer(essays_df.iloc[i].Essay_AC_types)\n",
    "    \n",
    "    data_file_test.append( formatting_fct(instruction, question, answer, mode=\"train\") )"
   ]
  },
  {
   "cell_type": "code",
   "execution_count": 202,
   "id": "0edc2c43-0f6f-42a6-b73b-1643150b451b",
   "metadata": {
    "tags": []
   },
   "outputs": [
    {
     "data": {
      "text/plain": [
       "80"
      ]
     },
     "execution_count": 202,
     "metadata": {},
     "output_type": "execute_result"
    }
   ],
   "source": [
    "len(data_file_test)"
   ]
  },
  {
   "cell_type": "code",
   "execution_count": 203,
   "id": "63843ae8-4157-47da-8ae1-4113ca764535",
   "metadata": {
    "tags": []
   },
   "outputs": [
    {
     "name": "stdout",
     "output_type": "stream",
     "text": [
      "{'instruction': '### You are an expert in Argument Mining. You are given an essay which contains numbered argument components enclosed by <AC></AC> tags. Your task is to classify each argument components in the essay as either \"MajorClaim\", \"Claim\" or \"Premise\". You must return a list of argument component types in following JSON format: {\"component_types\": [component_type (str), component_type (str), ..., component_type (str)]}\\n', 'input': \"### Here is the essay text: Will newspapers become a thing of the past ?The internet has been more and more popular for recent years , providing people with a huge source of information . As a result of this , print media such as newspapers have experienced a dramatic decline in the number of readers . Some people , however , still believe that they can exist for long time ; others disagree , arguing that <AC0> newspapers have lost their competitive advantage to sustain their prolonged existence </AC0> . Personally , I am inclined to agree with the latter view for following reasons .First of all , <AC1> to obtain information , using the internet is quicker and more convenient than reading newspapers </AC1> . <AC2> Contrary to the past when people had to wait long hours to take a daily newspaper , nowadays , they can acquire latest news updated every second through their mobile phones or computers connected to the internet , everywhere and at anytime </AC2> . <AC3> As can be seen , these devices and machines are very common in all parts of the world , making it easier for people to read a number of things that newspapers can not provide in only some pages </AC3> . Hence , <AC4> the print media has failed to keep its important role in the provision of information </AC4> .Another point is that , <AC5> from the economic aspect , buying newspapers appears to be a waste of money when the internet becomes available for every one </AC5> . It is clear to recognize that <AC6> the internet service is being provided at a low cost or even free in many countries </AC6> . The question arises as to whether or not a person spends an extra money buying newspapers to receive the same , even usually less information than those he can have with the internet ? <AC7> The answer , perhaps , is that hardly would rational people do so </AC7> . For this reason , <AC8> the number of people reading newspapers may continue falling sharply , possibly leading to the close - downs of many in the coming time </AC8> .Last , but not least , <AC9> when taking environment into consideration , people must conceive that the more newspapers are published , the more trees are cut down </AC9> . <AC10> This is simply the contributor to the deforestation which is happening all over the world today </AC10> . At this point , <AC11> newspapers ' production will have to face environmentalists on its way to be alive </AC11> .In conclusion , it might be unpleasant for some advocating newspapers to witness the extinction of the type of media . However , this , if occurring , should be seen as a result of the ever - increasing innovations in media technology and in our modern life as a whole .\", 'output': '{\"component_types\": [\"MajorClaim\", \"Premise\", \"Premise\", \"Premise\", \"Claim\", \"Premise\", \"Premise\", \"Premise\", \"Claim\", \"Premise\", \"Premise\", \"Claim\"]}'}\n",
      "\n",
      "{'instruction': '### You are an expert in Argument Mining. You are given an essay which contains numbered argument components enclosed by <AC></AC> tags. Your task is to classify each argument components in the essay as either \"MajorClaim\", \"Claim\" or \"Premise\". You must return a list of argument component types in following JSON format: {\"component_types\": [component_type (str), component_type (str), ..., component_type (str)]}\\n', 'input': '### Here is the essay text: Government budget focus , young children or university ?\" Education is the investment in our future \", as Senator Bernie Sanders once pointed out , education , which fosters a civilized society , plays a significant role in a country \\' s long - lasting prosperity . It is no wonder that governments throughout the world lay special emphasis on education development . As for the two integral components within the system , elementary and advanced education , there \\' s no doubt that <AC0> a government is supposed to offer sufficient financial support for both </AC0> .Concerning that <AC1> elementary education , like the base of a architecture , is the fundamental requirement to be a qualified citizen in today \\' s society </AC1> , <AC2> government should guarantee that all people have equal and convenient access to it </AC2> . So <AC3> a lack of well - established primary education goes hand in hand with a high rate of illiteracy , and this interplay seriously compromises a country \\' s future development </AC3> . In other words , <AC4> if countries , especially the developing countries , are determined to take off , one of the key points governments should set on agenda is to educate more qualified future citizens through elementary education </AC4> .That \\' s not enough , <AC5> for higher education , which represent the cutting edge of a country \\' s academic achievements , act as the vanguard in economic and social advance </AC5> . <AC6> The high technology and new ideas applied into practice may not only lead a country to flourish but also elevate its status in the international community </AC6> . <AC7> Some may argue that universities can support themselve well by donation or invention </AC7> , but <AC8> this argument is invalid </AC8> . <AC9> Researches into humanities and art still need large amount of money </AC9> , what \\' s more , <AC10> government \\' s big budget on universities may attract more excellent intellectuals and researchers into the country and enjoy a higher reputation worldwide </AC10> .From reasons listed above , we can safely draw the conclusion that , <AC11> a government should spare effort on young children education as well as universities </AC11> , <AC12> both are crucial on the way to a brighter future </AC12> .', 'output': '{\"component_types\": [\"MajorClaim\", \"Premise\", \"Premise\", \"Premise\", \"Claim\", \"Premise\", \"Premise\", \"Premise\", \"Premise\", \"Premise\", \"Claim\", \"MajorClaim\", \"Claim\"]}'}\n",
      "\n",
      "{'instruction': '### You are an expert in Argument Mining. You are given an essay which contains numbered argument components enclosed by <AC></AC> tags. Your task is to classify each argument components in the essay as either \"MajorClaim\", \"Claim\" or \"Premise\". You must return a list of argument component types in following JSON format: {\"component_types\": [component_type (str), component_type (str), ..., component_type (str)]}\\n', 'input': \"### Here is the essay text: Roommates quality and their importanceMuch has been said about the importance about good roommates and how roommates will affect our life in school . Research showed that friends that we made in university are more likely to be life time friends and this especially applicable to roommate . In my personal opinion , <AC0> the most important quality of roommates is being considered </AC0> . In the meantime , <AC1> communication is also another essential particularity of a good roommate </AC1> .<AC2> Consideration is always important in relationship </AC2> . For example , <AC3> roommate turns down the music or television volume at night time </AC3> . <AC4> Sometimes we will not know what we have done until we have a taste of our own medicine </AC4> . <AC5> At all times , think about the other ' s feeling before doing any self - centered action would help to improve the roommate relationship tremendously </AC5> . Therefore , <AC6> having a considered roommate is significantly imperative to our school life </AC6> . <AC7> It will not only prevent conflicts but also to have a friend or even a family member </AC7> .Moreover , <AC8> communication is as well making a good roommate </AC8> . <AC9> People have different habit in daily life , such as tidy the blanket in the morning </AC9> . <AC10> One might think this is a piece of cake while other would consider it as immense project </AC10> . <AC11> If one requested to move out just because his roommate do not tidy up the blanket in the morning might be crying over split milk </AC11> . Therefore , <AC12> communication is very important </AC12> as <AC13> it would clear up the misinterpretation </AC13> . <AC14> Through communication , bonded are build and we could have better understanding of each others </AC14> .In conclusion , there are many valuable factors about roommate that are important . <AC15> Consideration and communication , in my personal opinion , are the most important quality </AC15> . However , people might not get what they want all the time . The sky is the limit ; there are all kinds of personality out there . We need to be flexible to be account into society .\", 'output': '{\"component_types\": [\"MajorClaim\", \"MajorClaim\", \"Premise\", \"Premise\", \"Premise\", \"Premise\", \"Claim\", \"Premise\", \"Premise\", \"Premise\", \"Premise\", \"Premise\", \"Claim\", \"Premise\", \"Premise\", \"MajorClaim\"]}'}\n",
      "\n"
     ]
    }
   ],
   "source": [
    "for i in range(3):\n",
    "    \n",
    "    print(data_file_test[i])\n",
    "    print()"
   ]
  },
  {
   "cell_type": "markdown",
   "id": "13a8dad5-0a92-4460-a027-64e9d6ffba6a",
   "metadata": {},
   "source": [
    "## Save `jsonl` files"
   ]
  },
  {
   "cell_type": "code",
   "execution_count": 204,
   "id": "828863ac-a9f2-497a-8a1f-92b7685d1a48",
   "metadata": {
    "tags": []
   },
   "outputs": [],
   "source": [
    "file_path = os.path.join(os.getcwd(), \"../datasets/PE_ATC_essay_wo_tags_train.json\")\n",
    "\n",
    "with open(file_path, 'w') as file:\n",
    "    \n",
    "    json.dump(data_file_train, file)"
   ]
  },
  {
   "cell_type": "code",
   "execution_count": 205,
   "id": "7c0ed1c8-af63-42e5-831b-7a4b501241f7",
   "metadata": {
    "tags": []
   },
   "outputs": [],
   "source": [
    "file_path = os.path.join(os.getcwd(), \"../datasets/PE_ATC_essay_wo_tags_test.json\")\n",
    "\n",
    "with open(file_path, 'w') as file:\n",
    "    \n",
    "    json.dump(data_file_test, file)"
   ]
  }
 ],
 "metadata": {
  "kernelspec": {
   "display_name": "Python 3 (ipykernel)",
   "language": "python",
   "name": "python3"
  },
  "language_info": {
   "codemirror_mode": {
    "name": "ipython",
    "version": 3
   },
   "file_extension": ".py",
   "mimetype": "text/x-python",
   "name": "python",
   "nbconvert_exporter": "python",
   "pygments_lexer": "ipython3",
   "version": "3.11.9"
  }
 },
 "nbformat": 4,
 "nbformat_minor": 5
}
